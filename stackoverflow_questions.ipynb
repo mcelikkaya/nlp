{
 "cells": [
  {
   "cell_type": "code",
   "execution_count": 20,
   "metadata": {},
   "outputs": [],
   "source": [
    "\"\"\"\n",
    "In this notebook I play with stackoverflow questions dataset.\n",
    "The data set is so big,so i get a subset of dataset.\n",
    "Logic is so simple,\n",
    "Encode questions with a defined embedding, of dimension 100\n",
    "Compare all questions with cosine with a search query.\n",
    "starspace_embedding.tsv must be downloaded \n",
    "\"\"\"\n",
    "\n",
    "import pandas as pd\n",
    "from sklearn.metrics.pairwise import pairwise_distances_argmin\n",
    "import os\n",
    "import nltk\n",
    "import pickle\n",
    "import re\n",
    "import numpy as np\n",
    "import csv"
   ]
  },
  {
   "cell_type": "code",
   "execution_count": 2,
   "metadata": {},
   "outputs": [],
   "source": [
    "with open(\"D:/nndata2/tagged_posts.tsv\",\"r\", encoding='cp932', errors='ignore' ) as fp:\n",
    "    lines = fp.readlines()"
   ]
  },
  {
   "cell_type": "code",
   "execution_count": 3,
   "metadata": {},
   "outputs": [],
   "source": [
    "#some lines have length 4 so only get ones with length 3\n",
    "splitted = [line.strip().split('\\t')  for line in lines  if len(line.split('\\t')) == 3 ]"
   ]
  },
  {
   "cell_type": "code",
   "execution_count": 6,
   "metadata": {},
   "outputs": [
    {
     "name": "stdout",
     "output_type": "stream",
     "text": [
      "len posts_df 2171574\n"
     ]
    },
    {
     "data": {
      "text/html": [
       "<div>\n",
       "<style scoped>\n",
       "    .dataframe tbody tr th:only-of-type {\n",
       "        vertical-align: middle;\n",
       "    }\n",
       "\n",
       "    .dataframe tbody tr th {\n",
       "        vertical-align: top;\n",
       "    }\n",
       "\n",
       "    .dataframe thead th {\n",
       "        text-align: right;\n",
       "    }\n",
       "</style>\n",
       "<table border=\"1\" class=\"dataframe\">\n",
       "  <thead>\n",
       "    <tr style=\"text-align: right;\">\n",
       "      <th></th>\n",
       "      <th>post_id</th>\n",
       "      <th>title</th>\n",
       "      <th>tag</th>\n",
       "    </tr>\n",
       "  </thead>\n",
       "  <tbody>\n",
       "    <tr>\n",
       "      <th>0</th>\n",
       "      <td>post_id</td>\n",
       "      <td>title</td>\n",
       "      <td>tag</td>\n",
       "    </tr>\n",
       "    <tr>\n",
       "      <th>1</th>\n",
       "      <td>9</td>\n",
       "      <td>Calculate age in C#</td>\n",
       "      <td>c#</td>\n",
       "    </tr>\n",
       "    <tr>\n",
       "      <th>2</th>\n",
       "      <td>16</td>\n",
       "      <td>Filling a DataSet or DataTable from a LINQ que...</td>\n",
       "      <td>c#</td>\n",
       "    </tr>\n",
       "    <tr>\n",
       "      <th>3</th>\n",
       "      <td>39</td>\n",
       "      <td>Reliable timer in a console application</td>\n",
       "      <td>c#</td>\n",
       "    </tr>\n",
       "    <tr>\n",
       "      <th>4</th>\n",
       "      <td>42</td>\n",
       "      <td>Best way to allow plugins for a PHP application</td>\n",
       "      <td>php</td>\n",
       "    </tr>\n",
       "  </tbody>\n",
       "</table>\n",
       "</div>"
      ],
      "text/plain": [
       "   post_id                                              title  tag\n",
       "0  post_id                                              title  tag\n",
       "1        9                                Calculate age in C#   c#\n",
       "2       16  Filling a DataSet or DataTable from a LINQ que...   c#\n",
       "3       39            Reliable timer in a console application   c#\n",
       "4       42    Best way to allow plugins for a PHP application  php"
      ]
     },
     "execution_count": 6,
     "metadata": {},
     "output_type": "execute_result"
    }
   ],
   "source": [
    "posts_df = pd.DataFrame(splitted,columns=[\"post_id\",\"title\",\"tag\"])\n",
    "print(\"len posts_df\",len(posts_df))\n",
    "posts_df.head(5)"
   ]
  },
  {
   "cell_type": "code",
   "execution_count": 7,
   "metadata": {},
   "outputs": [],
   "source": [
    "counts_by_tag = posts_df.groupby(['tag']).count()\n",
    "counts_by_tag"
   ]
  },
  {
   "cell_type": "code",
   "execution_count": 8,
   "metadata": {},
   "outputs": [
    {
     "data": {
      "text/html": [
       "<div>\n",
       "<style scoped>\n",
       "    .dataframe tbody tr th:only-of-type {\n",
       "        vertical-align: middle;\n",
       "    }\n",
       "\n",
       "    .dataframe tbody tr th {\n",
       "        vertical-align: top;\n",
       "    }\n",
       "\n",
       "    .dataframe thead th {\n",
       "        text-align: right;\n",
       "    }\n",
       "</style>\n",
       "<table border=\"1\" class=\"dataframe\">\n",
       "  <thead>\n",
       "    <tr style=\"text-align: right;\">\n",
       "      <th></th>\n",
       "      <th>post_id</th>\n",
       "      <th>title</th>\n",
       "    </tr>\n",
       "    <tr>\n",
       "      <th>tag</th>\n",
       "      <th></th>\n",
       "      <th></th>\n",
       "    </tr>\n",
       "  </thead>\n",
       "  <tbody>\n",
       "    <tr>\n",
       "      <th>c#</th>\n",
       "      <td>394450</td>\n",
       "      <td>394450</td>\n",
       "    </tr>\n",
       "    <tr>\n",
       "      <th>c_cpp</th>\n",
       "      <td>281300</td>\n",
       "      <td>281300</td>\n",
       "    </tr>\n",
       "    <tr>\n",
       "      <th>java</th>\n",
       "      <td>383456</td>\n",
       "      <td>383456</td>\n",
       "    </tr>\n",
       "    <tr>\n",
       "      <th>javascript</th>\n",
       "      <td>375866</td>\n",
       "      <td>375866</td>\n",
       "    </tr>\n",
       "    <tr>\n",
       "      <th>php</th>\n",
       "      <td>321752</td>\n",
       "      <td>321752</td>\n",
       "    </tr>\n",
       "    <tr>\n",
       "      <th>python</th>\n",
       "      <td>208607</td>\n",
       "      <td>208607</td>\n",
       "    </tr>\n",
       "    <tr>\n",
       "      <th>r</th>\n",
       "      <td>36359</td>\n",
       "      <td>36359</td>\n",
       "    </tr>\n",
       "    <tr>\n",
       "      <th>ruby</th>\n",
       "      <td>99930</td>\n",
       "      <td>99930</td>\n",
       "    </tr>\n",
       "    <tr>\n",
       "      <th>swift</th>\n",
       "      <td>34809</td>\n",
       "      <td>34809</td>\n",
       "    </tr>\n",
       "    <tr>\n",
       "      <th>tag</th>\n",
       "      <td>1</td>\n",
       "      <td>1</td>\n",
       "    </tr>\n",
       "    <tr>\n",
       "      <th>vb</th>\n",
       "      <td>35044</td>\n",
       "      <td>35044</td>\n",
       "    </tr>\n",
       "  </tbody>\n",
       "</table>\n",
       "</div>"
      ],
      "text/plain": [
       "            post_id   title\n",
       "tag                        \n",
       "c#           394450  394450\n",
       "c_cpp        281300  281300\n",
       "java         383456  383456\n",
       "javascript   375866  375866\n",
       "php          321752  321752\n",
       "python       208607  208607\n",
       "r             36359   36359\n",
       "ruby          99930   99930\n",
       "swift         34809   34809\n",
       "tag               1       1\n",
       "vb            35044   35044"
      ]
     },
     "execution_count": 8,
     "metadata": {},
     "output_type": "execute_result"
    }
   ],
   "source": []
  },
  {
   "cell_type": "code",
   "execution_count": 11,
   "metadata": {},
   "outputs": [],
   "source": [
    "filtered = posts_df[posts_df.tag.isin([\"c#\",\"java\",\"python\"])]"
   ]
  },
  {
   "cell_type": "code",
   "execution_count": 12,
   "metadata": {},
   "outputs": [
    {
     "data": {
      "text/html": [
       "<div>\n",
       "<style scoped>\n",
       "    .dataframe tbody tr th:only-of-type {\n",
       "        vertical-align: middle;\n",
       "    }\n",
       "\n",
       "    .dataframe tbody tr th {\n",
       "        vertical-align: top;\n",
       "    }\n",
       "\n",
       "    .dataframe thead th {\n",
       "        text-align: right;\n",
       "    }\n",
       "</style>\n",
       "<table border=\"1\" class=\"dataframe\">\n",
       "  <thead>\n",
       "    <tr style=\"text-align: right;\">\n",
       "      <th></th>\n",
       "      <th>post_id</th>\n",
       "      <th>title</th>\n",
       "      <th>tag</th>\n",
       "    </tr>\n",
       "  </thead>\n",
       "  <tbody>\n",
       "    <tr>\n",
       "      <th>1</th>\n",
       "      <td>9</td>\n",
       "      <td>Calculate age in C#</td>\n",
       "      <td>c#</td>\n",
       "    </tr>\n",
       "    <tr>\n",
       "      <th>2</th>\n",
       "      <td>16</td>\n",
       "      <td>Filling a DataSet or DataTable from a LINQ que...</td>\n",
       "      <td>c#</td>\n",
       "    </tr>\n",
       "    <tr>\n",
       "      <th>3</th>\n",
       "      <td>39</td>\n",
       "      <td>Reliable timer in a console application</td>\n",
       "      <td>c#</td>\n",
       "    </tr>\n",
       "    <tr>\n",
       "      <th>5</th>\n",
       "      <td>59</td>\n",
       "      <td>How do I get a distinct, ordered list of names...</td>\n",
       "      <td>c#</td>\n",
       "    </tr>\n",
       "  </tbody>\n",
       "</table>\n",
       "</div>"
      ],
      "text/plain": [
       "  post_id                                              title tag\n",
       "1       9                                Calculate age in C#  c#\n",
       "2      16  Filling a DataSet or DataTable from a LINQ que...  c#\n",
       "3      39            Reliable timer in a console application  c#\n",
       "5      59  How do I get a distinct, ordered list of names...  c#"
      ]
     },
     "execution_count": 12,
     "metadata": {},
     "output_type": "execute_result"
    }
   ],
   "source": [
    "filtered.head(4)"
   ]
  },
  {
   "cell_type": "code",
   "execution_count": 13,
   "metadata": {},
   "outputs": [
    {
     "data": {
      "text/html": [
       "<div>\n",
       "<style scoped>\n",
       "    .dataframe tbody tr th:only-of-type {\n",
       "        vertical-align: middle;\n",
       "    }\n",
       "\n",
       "    .dataframe tbody tr th {\n",
       "        vertical-align: top;\n",
       "    }\n",
       "\n",
       "    .dataframe thead th {\n",
       "        text-align: right;\n",
       "    }\n",
       "</style>\n",
       "<table border=\"1\" class=\"dataframe\">\n",
       "  <thead>\n",
       "    <tr style=\"text-align: right;\">\n",
       "      <th></th>\n",
       "      <th>post_id</th>\n",
       "      <th>title</th>\n",
       "    </tr>\n",
       "    <tr>\n",
       "      <th>tag</th>\n",
       "      <th></th>\n",
       "      <th></th>\n",
       "    </tr>\n",
       "  </thead>\n",
       "  <tbody>\n",
       "    <tr>\n",
       "      <th>c#</th>\n",
       "      <td>394450</td>\n",
       "      <td>394450</td>\n",
       "    </tr>\n",
       "    <tr>\n",
       "      <th>java</th>\n",
       "      <td>383456</td>\n",
       "      <td>383456</td>\n",
       "    </tr>\n",
       "    <tr>\n",
       "      <th>python</th>\n",
       "      <td>208607</td>\n",
       "      <td>208607</td>\n",
       "    </tr>\n",
       "  </tbody>\n",
       "</table>\n",
       "</div>"
      ],
      "text/plain": [
       "        post_id   title\n",
       "tag                    \n",
       "c#       394450  394450\n",
       "java     383456  383456\n",
       "python   208607  208607"
      ]
     },
     "execution_count": 13,
     "metadata": {},
     "output_type": "execute_result"
    }
   ],
   "source": [
    "counts_by_tag = filtered.groupby(['tag']).count()\n",
    "counts_by_tag"
   ]
  },
  {
   "cell_type": "code",
   "execution_count": 14,
   "metadata": {},
   "outputs": [],
   "source": [
    "filtered2 = filtered[0:200000]"
   ]
  },
  {
   "cell_type": "code",
   "execution_count": 15,
   "metadata": {},
   "outputs": [
    {
     "data": {
      "text/html": [
       "<div>\n",
       "<style scoped>\n",
       "    .dataframe tbody tr th:only-of-type {\n",
       "        vertical-align: middle;\n",
       "    }\n",
       "\n",
       "    .dataframe tbody tr th {\n",
       "        vertical-align: top;\n",
       "    }\n",
       "\n",
       "    .dataframe thead th {\n",
       "        text-align: right;\n",
       "    }\n",
       "</style>\n",
       "<table border=\"1\" class=\"dataframe\">\n",
       "  <thead>\n",
       "    <tr style=\"text-align: right;\">\n",
       "      <th></th>\n",
       "      <th>post_id</th>\n",
       "      <th>title</th>\n",
       "    </tr>\n",
       "    <tr>\n",
       "      <th>tag</th>\n",
       "      <th></th>\n",
       "      <th></th>\n",
       "    </tr>\n",
       "  </thead>\n",
       "  <tbody>\n",
       "    <tr>\n",
       "      <th>c#</th>\n",
       "      <td>98358</td>\n",
       "      <td>98358</td>\n",
       "    </tr>\n",
       "    <tr>\n",
       "      <th>java</th>\n",
       "      <td>66754</td>\n",
       "      <td>66754</td>\n",
       "    </tr>\n",
       "    <tr>\n",
       "      <th>python</th>\n",
       "      <td>34888</td>\n",
       "      <td>34888</td>\n",
       "    </tr>\n",
       "  </tbody>\n",
       "</table>\n",
       "</div>"
      ],
      "text/plain": [
       "        post_id  title\n",
       "tag                   \n",
       "c#        98358  98358\n",
       "java      66754  66754\n",
       "python    34888  34888"
      ]
     },
     "execution_count": 15,
     "metadata": {},
     "output_type": "execute_result"
    }
   ],
   "source": [
    "counts_by_tag = filtered2.groupby(['tag']).count()\n",
    "counts_by_tag"
   ]
  },
  {
   "cell_type": "code",
   "execution_count": 16,
   "metadata": {},
   "outputs": [],
   "source": [
    "posts_df = filtered2"
   ]
  },
  {
   "cell_type": "code",
   "execution_count": null,
   "metadata": {},
   "outputs": [],
   "source": []
  },
  {
   "cell_type": "code",
   "execution_count": 80,
   "metadata": {},
   "outputs": [
    {
     "name": "stderr",
     "output_type": "stream",
     "text": [
      "[nltk_data] Downloading package stopwords to\n",
      "[nltk_data]     C:\\Users\\cmustafa\\AppData\\Roaming\\nltk_data...\n",
      "[nltk_data]   Package stopwords is already up-to-date!\n"
     ]
    }
   ],
   "source": [
    "def question_to_vec(question, embeddings, dim):\n",
    "    vec = np.zeros((dim,), dtype=np.float32)\n",
    "    count = 0\n",
    "    for w in question.split():\n",
    "        if w in embeddings:\n",
    "            count += 1\n",
    "            vec += embeddings[w]\n",
    "    if count == 0:\n",
    "        return vec\n",
    "    return vec/count\n",
    "\n",
    "def load_embeddings(embeddings_path):\n",
    "    embeddings = {}\n",
    "    with open(embeddings_path, newline='') as embedding_file:\n",
    "        reader = csv.reader(embedding_file, delimiter='\\t')\n",
    "        for line in reader:\n",
    "            word = line[0]\n",
    "            embedding = np.array(line[1:]).astype(np.float32)\n",
    "            embeddings[word] = embedding\n",
    "        dim = len(line) - 1\n",
    "    return embeddings, dim\n",
    "\n",
    "\n",
    "def text_prepare(text):\n",
    "    \"\"\"Performs tokenization and simple preprocessing.\"\"\"\n",
    "    replace_by_space_re = re.compile('[/(){}\\[\\]\\|@,;]')\n",
    "    bad_symbols_re = re.compile('[^0-9a-z #+_]')\n",
    "    stopwords_set = set(stopwords.words('english'))\n",
    "\n",
    "    text = text.lower()\n",
    "    text = replace_by_space_re.sub(' ', text)\n",
    "    text = bad_symbols_re.sub('', text)\n",
    "    text = ' '.join([x for x in text.split() if x and x not in stopwords_set])\n",
    "\n",
    "    return text.strip()\n",
    "\n",
    "nltk.download('stopwords')\n",
    "from nltk.corpus import stopwords"
   ]
  },
  {
   "cell_type": "code",
   "execution_count": 21,
   "metadata": {},
   "outputs": [],
   "source": [
    "starspace_embeddings , embeddings_dim = load_embeddings('D:/nndata2/starspace_embedding.tsv')\n"
   ]
  },
  {
   "cell_type": "code",
   "execution_count": 24,
   "metadata": {},
   "outputs": [
    {
     "name": "stdout",
     "output_type": "stream",
     "text": [
      "len(tag_post_ids) 98358\n"
     ]
    }
   ],
   "source": [
    "tag = \"c#\" \n",
    "count = 98358\n",
    "tag_posts = posts_df[posts_df['tag'] == tag]\n",
    "tag_post_ids = tag_posts['post_id'].values\n",
    "print(\"len(tag_post_ids)\",len(tag_post_ids))\n",
    "tag_vectors = np.zeros((count, embeddings_dim), dtype=np.float32)\n",
    "for i, title in enumerate(tag_posts['title']):\n",
    "    v = question_to_vec(title, starspace_embeddings, embeddings_dim)         \n",
    "    tag_vectors[i, :] = v"
   ]
  },
  {
   "cell_type": "code",
   "execution_count": 26,
   "metadata": {},
   "outputs": [
    {
     "data": {
      "text/plain": [
       "array([-0.121911  , -0.0148207 ,  0.0685611 , -0.0391922 ,  0.0207903 ,\n",
       "       -0.0263119 , -0.0491494 ,  0.00619848,  0.0694078 , -0.160971  ,\n",
       "       -0.0996862 , -0.00131709,  0.02722   , -0.0355591 ,  0.00401683,\n",
       "        0.142795  , -0.0803947 ,  0.0476321 ,  0.0112376 ,  0.0156932 ,\n",
       "       -0.00610658, -0.0823146 ,  0.0976203 , -0.0572465 ,  0.0509001 ,\n",
       "        0.123337  ,  0.0711459 ,  0.106239  , -0.0286553 ,  0.00737424,\n",
       "        0.149057  ,  0.0738868 ,  0.0742279 ,  0.0444604 ,  0.0210809 ,\n",
       "       -0.034772  , -0.202033  , -0.150109  , -0.0620737 , -0.0197366 ,\n",
       "        0.0943944 , -0.119607  ,  0.0213234 ,  0.0242412 , -0.0424364 ,\n",
       "       -0.181983  ,  0.10005   , -0.0628281 ,  0.0928079 ,  0.108563  ,\n",
       "       -0.187201  , -0.123544  , -0.0813036 ,  0.156296  ,  0.0786888 ,\n",
       "        0.0934746 ,  0.0757428 ,  0.126971  ,  0.129636  , -0.117174  ,\n",
       "       -0.101729  ,  0.0552807 ,  0.0580586 ,  0.0523162 , -0.11047   ,\n",
       "       -0.095839  , -0.147583  ,  0.0798012 , -0.0705922 , -0.0880624 ,\n",
       "        0.00667426,  0.0831554 ,  0.101553  , -0.062449  ,  0.108893  ,\n",
       "        0.0998872 ,  0.0268249 ,  0.0892214 , -0.105578  , -0.10103   ,\n",
       "       -0.0519022 ,  0.0378985 ,  0.0141956 ,  0.00025771,  0.108953  ,\n",
       "       -0.0302435 ,  0.213635  , -0.0503681 , -0.040295  , -0.046272  ,\n",
       "       -0.0378338 , -0.109754  ,  0.00410223, -0.123618  ,  0.134549  ,\n",
       "       -0.109225  ,  0.0950087 , -0.120884  , -0.0188498 , -0.0741807 ],\n",
       "      dtype=float32)"
      ]
     },
     "execution_count": 26,
     "metadata": {},
     "output_type": "execute_result"
    }
   ],
   "source": [
    "tag_vectors[0]"
   ]
  },
  {
   "cell_type": "code",
   "execution_count": 27,
   "metadata": {},
   "outputs": [
    {
     "data": {
      "text/plain": [
       "dict"
      ]
     },
     "execution_count": 27,
     "metadata": {},
     "output_type": "execute_result"
    }
   ],
   "source": [
    "type(starspace_embeddings)"
   ]
  },
  {
   "cell_type": "code",
   "execution_count": 28,
   "metadata": {},
   "outputs": [
    {
     "data": {
      "text/plain": [
       "['using',\n",
       " 'android',\n",
       " 'file',\n",
       " 'java',\n",
       " 'get',\n",
       " 'error',\n",
       " 'php',\n",
       " 'use',\n",
       " 'javascript',\n",
       " 'python']"
      ]
     },
     "execution_count": 28,
     "metadata": {},
     "output_type": "execute_result"
    }
   ],
   "source": [
    "list(starspace_embeddings.keys())[0:10]"
   ]
  },
  {
   "cell_type": "code",
   "execution_count": 31,
   "metadata": {},
   "outputs": [
    {
     "name": "stdout",
     "output_type": "stream",
     "text": [
      "[-0.0824964   0.0174975  -0.0582816  -0.00762401 -0.0347168  -0.0284079\n",
      "  0.00320952 -0.0248444   0.00890259  0.0155737   0.0156591  -0.0763307\n",
      " -0.0525748   0.0251436  -0.0601807   0.0453156  -0.0508035  -0.0970938\n",
      " -0.00843726 -0.0113547   0.0104599   0.0206409  -0.0479884   0.0261706\n",
      "  0.00947456 -0.0144043  -0.00072671  0.0178546   0.0276209   0.0333171\n",
      "  0.0231061  -0.025076    0.0025155   0.0430403  -0.0074121   0.0810426\n",
      "  0.0899528   0.019445   -0.103867    0.00639882  0.114456    0.00398528\n",
      " -0.037371    0.00700451  0.0457162   0.00477849 -0.00839937  0.0513829\n",
      "  0.023151    0.0215419  -0.0224248   0.0768661   0.0155577  -0.0351739\n",
      "  0.0935909   0.0317492   0.104912   -0.00737383  0.00053634 -0.0351506\n",
      "  0.102329    0.0230716   0.0412404   0.107931   -0.0479629  -0.0722398\n",
      "  0.0218439   0.0808713  -0.0346209   0.162488    0.0456327   0.126931\n",
      " -0.00448303  0.0335758  -0.058264    0.113977   -0.0568185  -0.0493557\n",
      " -0.0004806   0.0143738  -0.0232347   0.0633993   0.0554496  -0.0111593\n",
      "  0.00468087  0.0444077   0.0638487  -0.0316435   0.0763553   0.0412627\n",
      " -0.0387819  -0.0409635  -0.0916921  -0.0640521  -0.0654825  -0.00413436\n",
      "  0.00631063 -0.0169335   0.0359202   0.00135141]\n"
     ]
    },
    {
     "data": {
      "text/html": [
       "<div>\n",
       "<style scoped>\n",
       "    .dataframe tbody tr th:only-of-type {\n",
       "        vertical-align: middle;\n",
       "    }\n",
       "\n",
       "    .dataframe tbody tr th {\n",
       "        vertical-align: top;\n",
       "    }\n",
       "\n",
       "    .dataframe thead th {\n",
       "        text-align: right;\n",
       "    }\n",
       "</style>\n",
       "<table border=\"1\" class=\"dataframe\">\n",
       "  <thead>\n",
       "    <tr style=\"text-align: right;\">\n",
       "      <th></th>\n",
       "      <th>post_id</th>\n",
       "      <th>title</th>\n",
       "    </tr>\n",
       "    <tr>\n",
       "      <th>tag</th>\n",
       "      <th></th>\n",
       "      <th></th>\n",
       "    </tr>\n",
       "  </thead>\n",
       "  <tbody>\n",
       "    <tr>\n",
       "      <th>c#</th>\n",
       "      <td>98358</td>\n",
       "      <td>98358</td>\n",
       "    </tr>\n",
       "    <tr>\n",
       "      <th>java</th>\n",
       "      <td>66754</td>\n",
       "      <td>66754</td>\n",
       "    </tr>\n",
       "    <tr>\n",
       "      <th>python</th>\n",
       "      <td>34888</td>\n",
       "      <td>34888</td>\n",
       "    </tr>\n",
       "  </tbody>\n",
       "</table>\n",
       "</div>"
      ],
      "text/plain": [
       "        post_id  title\n",
       "tag                   \n",
       "c#        98358  98358\n",
       "java      66754  66754\n",
       "python    34888  34888"
      ]
     },
     "execution_count": 31,
     "metadata": {},
     "output_type": "execute_result"
    }
   ],
   "source": [
    "print(starspace_embeddings['python'])\n",
    "counts_by_tag"
   ]
  },
  {
   "cell_type": "code",
   "execution_count": null,
   "metadata": {},
   "outputs": [],
   "source": [
    "all_tags = []\n",
    "for tag, count in counts_by_tag.items():\n",
    "    print(\"tag\",tag)\n",
    "    tag_posts = posts_df[posts_df['tag'] == tag]\n",
    "    \n",
    "    tag_post_ids = tag_posts['post_id'].values\n",
    "    \n",
    "    #tag_vectors = np.zeros((count, embeddings_dim), dtype=np.float32)\n",
    "    for i, title in enumerate(tag_posts['title'].values):        \n",
    "        #tag_vectors[i, :] = question_to_vec(title, starspace_embeddings, embeddings_dim) \n",
    "        all_tags.append(question_to_vec(title, starspace_embeddings, embeddings_dim) )"
   ]
  },
  {
   "cell_type": "code",
   "execution_count": 66,
   "metadata": {},
   "outputs": [
    {
     "name": "stdout",
     "output_type": "stream",
     "text": [
      "tag c#\n",
      "tag java\n",
      "tag python\n"
     ]
    }
   ],
   "source": [
    "counts_by_tag = posts_df['tag'].value_counts().to_dict()\n",
    "counts_by_tag\n",
    "\n",
    "all_tags = []\n",
    "for tag, count in counts_by_tag.items():\n",
    "    print(\"tag\",tag)\n",
    "    tag_posts = posts_df[posts_df['tag'] == tag]\n",
    "    \n",
    "    tag_post_ids = tag_posts['post_id'].values\n",
    "    \n",
    "    for i, title in enumerate(tag_posts['title'].values):        \n",
    "\n",
    "        all_tags.append(question_to_vec(title, starspace_embeddings, embeddings_dim) )\n"
   ]
  },
  {
   "cell_type": "code",
   "execution_count": 137,
   "metadata": {},
   "outputs": [],
   "source": [
    "all_tags = []\n",
    "for item in posts_df.values:\n",
    "    #print(item[0],item[1],item[2])\n",
    "    item_id = item[0]\n",
    "    item_title = item[1]\n",
    "    item_tag = item[2]\n",
    "    all_tags.append(question_to_vec(item_title, starspace_embeddings, embeddings_dim) )"
   ]
  },
  {
   "cell_type": "code",
   "execution_count": 135,
   "metadata": {},
   "outputs": [
    {
     "data": {
      "text/plain": [
       "'How to download attachment from gmail using python?'"
      ]
     },
     "execution_count": 135,
     "metadata": {},
     "output_type": "execute_result"
    }
   ],
   "source": []
  },
  {
   "cell_type": "code",
   "execution_count": 158,
   "metadata": {},
   "outputs": [
    {
     "data": {
      "text/plain": [
       "'Reliable timer in a console application'"
      ]
     },
     "execution_count": 158,
     "metadata": {},
     "output_type": "execute_result"
    }
   ],
   "source": [
    "question = \"Reliable timer in a console application\"\n",
    "#question = \"List object returning null\"\n",
    "question = text_prepare(question)\n",
    "question_vec = question_to_vec(question, starspace_embeddings, embeddings_dim)\n",
    "best_thread = pairwise_distances_argmin(\n",
    "            X=question_vec.reshape(1, embeddings_dim),\n",
    "            Y=all_tags,\n",
    "            metric='cosine'\n",
    "        )\n",
    "best_thread\n",
    "posts_df.iloc[best_thread[0]][\"title\"]"
   ]
  },
  {
   "cell_type": "code",
   "execution_count": 163,
   "metadata": {},
   "outputs": [
    {
     "data": {
      "text/html": [
       "<div>\n",
       "<style scoped>\n",
       "    .dataframe tbody tr th:only-of-type {\n",
       "        vertical-align: middle;\n",
       "    }\n",
       "\n",
       "    .dataframe tbody tr th {\n",
       "        vertical-align: top;\n",
       "    }\n",
       "\n",
       "    .dataframe thead th {\n",
       "        text-align: right;\n",
       "    }\n",
       "</style>\n",
       "<table border=\"1\" class=\"dataframe\">\n",
       "  <thead>\n",
       "    <tr style=\"text-align: right;\">\n",
       "      <th></th>\n",
       "      <th>post_id</th>\n",
       "      <th>title</th>\n",
       "      <th>tag</th>\n",
       "    </tr>\n",
       "  </thead>\n",
       "  <tbody>\n",
       "    <tr>\n",
       "      <th>1</th>\n",
       "      <td>9</td>\n",
       "      <td>Calculate age in C#</td>\n",
       "      <td>c#</td>\n",
       "    </tr>\n",
       "    <tr>\n",
       "      <th>2</th>\n",
       "      <td>16</td>\n",
       "      <td>Filling a DataSet or DataTable from a LINQ que...</td>\n",
       "      <td>c#</td>\n",
       "    </tr>\n",
       "    <tr>\n",
       "      <th>3</th>\n",
       "      <td>39</td>\n",
       "      <td>Reliable timer in a console application</td>\n",
       "      <td>c#</td>\n",
       "    </tr>\n",
       "    <tr>\n",
       "      <th>5</th>\n",
       "      <td>59</td>\n",
       "      <td>How do I get a distinct, ordered list of names...</td>\n",
       "      <td>c#</td>\n",
       "    </tr>\n",
       "    <tr>\n",
       "      <th>6</th>\n",
       "      <td>109</td>\n",
       "      <td>Decoding T-SQL CAST in C#/VB.NET</td>\n",
       "      <td>c#</td>\n",
       "    </tr>\n",
       "    <tr>\n",
       "      <th>8</th>\n",
       "      <td>174</td>\n",
       "      <td>How do I print an HTML document from a web ser...</td>\n",
       "      <td>c#</td>\n",
       "    </tr>\n",
       "    <tr>\n",
       "      <th>9</th>\n",
       "      <td>260</td>\n",
       "      <td>Adding scripting functionality to .NET applica...</td>\n",
       "      <td>c#</td>\n",
       "    </tr>\n",
       "    <tr>\n",
       "      <th>11</th>\n",
       "      <td>289</td>\n",
       "      <td>How do you sort a dictionary by value?</td>\n",
       "      <td>c#</td>\n",
       "    </tr>\n",
       "    <tr>\n",
       "      <th>13</th>\n",
       "      <td>337</td>\n",
       "      <td>XML Processing in Python</td>\n",
       "      <td>python</td>\n",
       "    </tr>\n",
       "    <tr>\n",
       "      <th>16</th>\n",
       "      <td>482</td>\n",
       "      <td>WinForms ComboBox data binding gotcha</td>\n",
       "      <td>c#</td>\n",
       "    </tr>\n",
       "  </tbody>\n",
       "</table>\n",
       "</div>"
      ],
      "text/plain": [
       "   post_id                                              title     tag\n",
       "1        9                                Calculate age in C#      c#\n",
       "2       16  Filling a DataSet or DataTable from a LINQ que...      c#\n",
       "3       39            Reliable timer in a console application      c#\n",
       "5       59  How do I get a distinct, ordered list of names...      c#\n",
       "6      109                   Decoding T-SQL CAST in C#/VB.NET      c#\n",
       "8      174  How do I print an HTML document from a web ser...      c#\n",
       "9      260  Adding scripting functionality to .NET applica...      c#\n",
       "11     289             How do you sort a dictionary by value?      c#\n",
       "13     337                           XML Processing in Python  python\n",
       "16     482              WinForms ComboBox data binding gotcha      c#"
      ]
     },
     "execution_count": 163,
     "metadata": {},
     "output_type": "execute_result"
    }
   ],
   "source": [
    "posts_df[0:10]"
   ]
  },
  {
   "cell_type": "code",
   "execution_count": 156,
   "metadata": {},
   "outputs": [],
   "source": [
    "def get_best_answer(question):\n",
    "    question = text_prepare(question)\n",
    "    question_vec = question_to_vec(question, starspace_embeddings, embeddings_dim)\n",
    "    best_thread = pairwise_distances_argmin(\n",
    "            X=question_vec.reshape(1, embeddings_dim),\n",
    "            Y=all_tags,\n",
    "            metric='cosine'\n",
    "        )\n",
    "    return posts_df.iloc[best_thread[0]][\"title\"]"
   ]
  },
  {
   "cell_type": "code",
   "execution_count": 157,
   "metadata": {},
   "outputs": [
    {
     "data": {
      "text/plain": [
       "'How do I print an HTML document from a web service?'"
      ]
     },
     "execution_count": 157,
     "metadata": {},
     "output_type": "execute_result"
    }
   ],
   "source": [
    "get_best_answer(\"How do I print an HTML document from a web service\")"
   ]
  },
  {
   "cell_type": "code",
   "execution_count": 160,
   "metadata": {},
   "outputs": [
    {
     "data": {
      "text/plain": [
       "'Passing XML document to a web service using WCF'"
      ]
     },
     "execution_count": 160,
     "metadata": {},
     "output_type": "execute_result"
    }
   ],
   "source": [
    "get_best_answer(\"web service HTML document \")"
   ]
  },
  {
   "cell_type": "code",
   "execution_count": 161,
   "metadata": {},
   "outputs": [
    {
     "data": {
      "text/plain": [
       "'How do I print an HTML document from a web service?'"
      ]
     },
     "execution_count": 161,
     "metadata": {},
     "output_type": "execute_result"
    }
   ],
   "source": [
    "get_best_answer(\"from a web service  an HTML document How do I print\")"
   ]
  },
  {
   "cell_type": "code",
   "execution_count": 162,
   "metadata": {},
   "outputs": [
    {
     "data": {
      "text/plain": [
       "'How do I print an HTML document from a web service?'"
      ]
     },
     "execution_count": 162,
     "metadata": {},
     "output_type": "execute_result"
    }
   ],
   "source": [
    "get_best_answer(\" web service   HTML document   I print\")"
   ]
  },
  {
   "cell_type": "code",
   "execution_count": 164,
   "metadata": {},
   "outputs": [
    {
     "data": {
      "text/plain": [
       "'Java JDBC clearBatch() and heap memory'"
      ]
     },
     "execution_count": 164,
     "metadata": {},
     "output_type": "execute_result"
    }
   ],
   "source": [
    "get_best_answer(\"How heap memory management works\")"
   ]
  },
  {
   "cell_type": "code",
   "execution_count": 165,
   "metadata": {},
   "outputs": [
    {
     "data": {
      "text/plain": [
       "'Make Hashtable immutable'"
      ]
     },
     "execution_count": 165,
     "metadata": {},
     "output_type": "execute_result"
    }
   ],
   "source": [
    "get_best_answer(\"How immutable string works\")"
   ]
  },
  {
   "cell_type": "code",
   "execution_count": 166,
   "metadata": {},
   "outputs": [
    {
     "data": {
      "text/plain": [
       "'Python PIL library perfomance'"
      ]
     },
     "execution_count": 166,
     "metadata": {},
     "output_type": "execute_result"
    }
   ],
   "source": [
    "get_best_answer(\"Perfomance of Map vs List\")"
   ]
  },
  {
   "cell_type": "code",
   "execution_count": 167,
   "metadata": {},
   "outputs": [
    {
     "data": {
      "text/plain": [
       "'How to map one list to another in python?'"
      ]
     },
     "execution_count": 167,
     "metadata": {},
     "output_type": "execute_result"
    }
   ],
   "source": [
    "get_best_answer(\"Comparision of Map vs List\")"
   ]
  },
  {
   "cell_type": "code",
   "execution_count": 168,
   "metadata": {},
   "outputs": [
    {
     "data": {
      "text/plain": [
       "'null pointer exception at org.hibernate.tuple.AbstractEntityTuplizer.createProxy'"
      ]
     },
     "execution_count": 168,
     "metadata": {},
     "output_type": "execute_result"
    }
   ],
   "source": [
    "get_best_answer(\"Null pointer exception\")"
   ]
  },
  {
   "cell_type": "code",
   "execution_count": 169,
   "metadata": {},
   "outputs": [
    {
     "data": {
      "text/plain": [
       "'Connecting console application to access database problems'"
      ]
     },
     "execution_count": 169,
     "metadata": {},
     "output_type": "execute_result"
    }
   ],
   "source": [
    "get_best_answer(\"Access db from console application\")"
   ]
  },
  {
   "cell_type": "code",
   "execution_count": null,
   "metadata": {},
   "outputs": [],
   "source": []
  }
 ],
 "metadata": {
  "kernelspec": {
   "display_name": "Python 3",
   "language": "python",
   "name": "python3"
  },
  "language_info": {
   "codemirror_mode": {
    "name": "ipython",
    "version": 3
   },
   "file_extension": ".py",
   "mimetype": "text/x-python",
   "name": "python",
   "nbconvert_exporter": "python",
   "pygments_lexer": "ipython3",
   "version": "3.7.1"
  }
 },
 "nbformat": 4,
 "nbformat_minor": 2
}

