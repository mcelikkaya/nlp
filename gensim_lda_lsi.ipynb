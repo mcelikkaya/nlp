{
  "nbformat": 4,
  "nbformat_minor": 0,
  "metadata": {
    "colab": {
      "name": "gensim_lda_lsi.ipynb",
      "provenance": [],
      "collapsed_sections": []
    },
    "kernelspec": {
      "name": "python3",
      "display_name": "Python 3"
    }
  },
  "cells": [
    {
      "cell_type": "code",
      "metadata": {
        "id": "PORGKiMRK20l",
        "colab_type": "code",
        "colab": {}
      },
      "source": [
        "\"\"\"\n",
        "In this notebook ,\n",
        "I try LDA(Latent Dirichlet Allocation) \n",
        "and \n",
        "LSI(Latent Semantic indexing)\n",
        "for content downloaded from wikipedia.\n",
        "I am downloading prefectures of Japan and states of USA.\n",
        "Then give these vocublary to LDA and LSI and ask to make 2 topics.\n",
        "LSI seems so nice for his task.\n",
        "For LDA I need to better tune.\n",
        "\"\"\"\n",
        "import gensim\n",
        "from gensim import corpora\n",
        "from nltk.tokenize import RegexpTokenizer\n",
        "from nltk.corpus import stopwords\n",
        "from nltk.stem.porter import PorterStemmer\n",
        "from gensim.models.coherencemodel import CoherenceModel\n",
        "import matplotlib.pyplot as plt"
      ],
      "execution_count": 0,
      "outputs": []
    },
    {
      "cell_type": "code",
      "metadata": {
        "id": "npztCCFmLJww",
        "colab_type": "code",
        "colab": {
          "base_uri": "https://localhost:8080/",
          "height": 109
        },
        "outputId": "c065ce18-f01a-4239-d1f3-dda3e5ec33c2"
      },
      "source": [
        "import nltk\n",
        "nltk.download('stopwords')\n",
        "nltk.download('wordnet')"
      ],
      "execution_count": 2,
      "outputs": [
        {
          "output_type": "stream",
          "text": [
            "[nltk_data] Downloading package stopwords to /root/nltk_data...\n",
            "[nltk_data]   Unzipping corpora/stopwords.zip.\n",
            "[nltk_data] Downloading package wordnet to /root/nltk_data...\n",
            "[nltk_data]   Unzipping corpora/wordnet.zip.\n"
          ],
          "name": "stdout"
        },
        {
          "output_type": "execute_result",
          "data": {
            "text/plain": [
              "True"
            ]
          },
          "metadata": {
            "tags": []
          },
          "execution_count": 2
        }
      ]
    },
    {
      "cell_type": "code",
      "metadata": {
        "id": "RK2_vMGMK_JT",
        "colab_type": "code",
        "colab": {
          "base_uri": "https://localhost:8080/",
          "height": 313
        },
        "outputId": "a3deefe3-becf-4b93-940b-dabd7f7de276"
      },
      "source": [
        "!pip install wikipedia"
      ],
      "execution_count": 5,
      "outputs": [
        {
          "output_type": "stream",
          "text": [
            "Collecting wikipedia\n",
            "  Downloading https://files.pythonhosted.org/packages/67/35/25e68fbc99e672127cc6fbb14b8ec1ba3dfef035bf1e4c90f78f24a80b7d/wikipedia-1.4.0.tar.gz\n",
            "Requirement already satisfied: beautifulsoup4 in /usr/local/lib/python3.6/dist-packages (from wikipedia) (4.6.3)\n",
            "Requirement already satisfied: requests<3.0.0,>=2.0.0 in /usr/local/lib/python3.6/dist-packages (from wikipedia) (2.23.0)\n",
            "Requirement already satisfied: urllib3!=1.25.0,!=1.25.1,<1.26,>=1.21.1 in /usr/local/lib/python3.6/dist-packages (from requests<3.0.0,>=2.0.0->wikipedia) (1.24.3)\n",
            "Requirement already satisfied: certifi>=2017.4.17 in /usr/local/lib/python3.6/dist-packages (from requests<3.0.0,>=2.0.0->wikipedia) (2020.4.5.1)\n",
            "Requirement already satisfied: idna<3,>=2.5 in /usr/local/lib/python3.6/dist-packages (from requests<3.0.0,>=2.0.0->wikipedia) (2.9)\n",
            "Requirement already satisfied: chardet<4,>=3.0.2 in /usr/local/lib/python3.6/dist-packages (from requests<3.0.0,>=2.0.0->wikipedia) (3.0.4)\n",
            "Building wheels for collected packages: wikipedia\n",
            "  Building wheel for wikipedia (setup.py) ... \u001b[?25l\u001b[?25hdone\n",
            "  Created wheel for wikipedia: filename=wikipedia-1.4.0-cp36-none-any.whl size=11686 sha256=c59496c8e51ed7a7c0bbd64b908fbf48bb8936d9f15f07482ee79ea3683629d2\n",
            "  Stored in directory: /root/.cache/pip/wheels/87/2a/18/4e471fd96d12114d16fe4a446d00c3b38fb9efcb744bd31f4a\n",
            "Successfully built wikipedia\n",
            "Installing collected packages: wikipedia\n",
            "Successfully installed wikipedia-1.4.0\n"
          ],
          "name": "stdout"
        }
      ]
    },
    {
      "cell_type": "code",
      "metadata": {
        "id": "IzIyZYaqK36W",
        "colab_type": "code",
        "colab": {}
      },
      "source": [
        "import wikipedia\n",
        "from nltk.corpus import stopwords\n",
        "from nltk.stem.wordnet import WordNetLemmatizer\n",
        "from gensim.corpora import Dictionary\n",
        "\n",
        "import string\n",
        "stop = set(stopwords.words('english'))\n",
        "exclude = set(string.punctuation)\n",
        "lemma = WordNetLemmatizer()\n",
        "def clean(doc):\n",
        "  stop_free = \" \".join([i for i in doc.lower().split() if i not in stop])\n",
        "  punc_free = ''.join(ch for ch in stop_free if ch not in exclude)\n",
        "  normalized = \" \".join(lemma.lemmatize(word) for word in punc_free.split())\n",
        "  return normalized\n",
        "\n",
        "def download_from_wiki(keywords):\n",
        "  splits = keywords.split(\",\")\n",
        "  sentences = []\n",
        "  for split in splits:\n",
        "    try:\n",
        "      sentences.append(wikipedia.summary( split ))\n",
        "    except:\n",
        "      print(\"error \",split) \n",
        "  return sentences  "
      ],
      "execution_count": 0,
      "outputs": []
    },
    {
      "cell_type": "code",
      "metadata": {
        "id": "gl_T9rzJK9uy",
        "colab_type": "code",
        "colab": {
          "base_uri": "https://localhost:8080/",
          "height": 515
        },
        "outputId": "94069361-61fc-4050-e3e5-e635247dde33"
      },
      "source": [
        "japan_states = \"Hokkaidō,Aomori,Iwate,Miyagi,Akita,Yamagata,Fukushima,Ibaraki,Tochigi,Gunma,Saitama,Chiba,Tōkyō,Kanagawa,Niigata,Toyama,Ishikawa,Fukui,Yamanashi,Nagano,Gifu,Shizuoka,Aichi,Mie,Shiga,Kyōto,Ōsaka,Hyōgo,Nara,Wakayama,Tottori,Shimane,Okayama,Hiroshima,Yamaguchi,Tokushima,Kagawa,Ehime,Kōchi,Fukuoka,Saga,Nagasaki,Kumamoto,Ōita,Miyazaki,Kagoshima,Okinawa\"\n",
        "\n",
        "japan_sentences = download_from_wiki( japan_states )\n",
        "\n",
        "usa_states = \"Alabama,Alaska,Arizona,Arkansas,California,Colorado,Connecticut,Delaware,Florida,Georgia,Hawaii,Idaho,Illinois,Indiana,Iowa,Kansas,Kentucky,Louisiana,Maine,Maryland,Massachusetts,Michigan,Minnesota,Mississippi,Missouri,Montana,Nebraska,Nevada,New Hampshire,New Jersey,New Mexico,New York,North Carolina,North Dakota,Ohio,Oklahoma,Oregon,Pennsylvania,Rhode Island,South Carolina,South Dakota,Tennessee,Texas,Utah,Vermont,Virginia,Washington,West Virginia,Wisconsin,Wyoming\"\n",
        "usa_sentences = download_from_wiki( usa_states )"
      ],
      "execution_count": 7,
      "outputs": [
        {
          "output_type": "stream",
          "text": [
            "/usr/local/lib/python3.6/dist-packages/wikipedia/wikipedia.py:389: UserWarning: No parser was explicitly specified, so I'm using the best available HTML parser for this system (\"lxml\"). This usually isn't a problem, but if you run this code on another system, or in a different virtual environment, it may use a different parser and behave differently.\n",
            "\n",
            "The code that caused this warning is on line 389 of the file /usr/local/lib/python3.6/dist-packages/wikipedia/wikipedia.py. To get rid of this warning, pass the additional argument 'features=\"lxml\"' to the BeautifulSoup constructor.\n",
            "\n",
            "  lis = BeautifulSoup(html).find_all('li')\n"
          ],
          "name": "stderr"
        },
        {
          "output_type": "stream",
          "text": [
            "error  Aomori\n",
            "error  Miyagi\n",
            "error  Yamagata\n",
            "error  Ibaraki\n",
            "error  Tochigi\n",
            "error  Saitama\n",
            "error  Niigata\n",
            "error  Toyama\n",
            "error  Ishikawa\n",
            "error  Fukui\n",
            "error  Yamanashi\n",
            "error  Nagano\n",
            "error  Shizuoka\n",
            "error  Mie\n",
            "error  Wakayama\n",
            "error  Yamaguchi\n",
            "error  Georgia\n",
            "error  Indiana\n",
            "error  New York\n",
            "error  Rhode Island\n",
            "error  Washington\n"
          ],
          "name": "stdout"
        }
      ]
    },
    {
      "cell_type": "code",
      "metadata": {
        "id": "lAMT9VzqK_Ap",
        "colab_type": "code",
        "colab": {}
      },
      "source": [
        "doc_clean_japan = [clean(doc).split() for doc in japan_sentences]\n",
        "doc_clean_usa = [clean(doc).split() for doc in usa_sentences]\n",
        "\n",
        "def prepare_corpus(doc_clean):\n",
        "    # Creating the term dictionary of our courpus, where every unique term is assigned an index. dictionary = corpora.Dictionary(doc_clean)\n",
        "    dictionary = corpora.Dictionary(doc_clean)\n",
        "    # Converting list of documents (corpus) into Document Term Matrix using dictionary prepared above.\n",
        "    doc_term_matrix = [dictionary.doc2bow(doc) for doc in doc_clean]\n",
        "    return dictionary,doc_term_matrix"
      ],
      "execution_count": 0,
      "outputs": []
    },
    {
      "cell_type": "code",
      "metadata": {
        "id": "B9soNz5WLBMq",
        "colab_type": "code",
        "colab": {}
      },
      "source": [
        " from gensim.models import LsiModel\n",
        " def run_lda(vocublary,num_topic,num_pass):\n",
        "  dictionary,doc_term_matrix = prepare_corpus(vocublary)\n",
        "\n",
        "  model = gensim.models.ldamodel.LdaModel(doc_term_matrix, num_topics=num_topic, id2word = dictionary, passes=num_pass)\n",
        "  #print(model.print_topics(num_topics=num_topic, num_words=6))\n",
        "  return model\n",
        "\n",
        " def run_lsi(vocublary,num_topic,num_pass):\n",
        "  dictionary,doc_term_matrix = prepare_corpus(vocublary)  \n",
        " \n",
        "  model = LsiModel(doc_term_matrix, num_topics=num_topic, id2word = dictionary)  # train model\n",
        "  #print(model.print_topics(num_topics=num_topic, num_words=6))\n",
        "  return model  "
      ],
      "execution_count": 0,
      "outputs": []
    },
    {
      "cell_type": "code",
      "metadata": {
        "id": "SfyvJ2UbUQzv",
        "colab_type": "code",
        "colab": {
          "base_uri": "https://localhost:8080/",
          "height": 110
        },
        "outputId": "0c22570d-614e-4831-f069-88cdf305b0f3"
      },
      "source": [
        "model_lsi = run_lsi(doc_clean_usa+doc_clean_japan,2,5000)\n",
        "model_lsi.print_topics(-1)"
      ],
      "execution_count": 14,
      "outputs": [
        {
          "output_type": "execute_result",
          "data": {
            "text/plain": [
              "[(0,\n",
              "  '0.774*\"state\" + 0.175*\"area\" + 0.160*\"new\" + 0.153*\"united\" + 0.136*\"city\" + 0.121*\"largest\" + 0.115*\"u\" + 0.115*\"north\" + 0.103*\"american\" + 0.097*\"south\"'),\n",
              " (1,\n",
              "  '-0.627*\"prefecture\" + -0.362*\"city\" + -0.342*\"japan\" + 0.233*\"state\" + -0.188*\"area\" + -0.128*\"world\" + -0.125*\"tokyo\" + -0.114*\"largest\" + -0.110*\"capital\" + -0.106*\"population\"')]"
            ]
          },
          "metadata": {
            "tags": []
          },
          "execution_count": 14
        }
      ]
    },
    {
      "cell_type": "code",
      "metadata": {
        "id": "AQfq5Ky_djIN",
        "colab_type": "code",
        "colab": {
          "base_uri": "https://localhost:8080/",
          "height": 110
        },
        "outputId": "0f3cd8a8-b7eb-4e4a-9d15-072cc5bfac1f"
      },
      "source": [
        "model_lsa = run_lda(doc_clean_usa,2,100)\n",
        "model_lsa.print_topics(-1)"
      ],
      "execution_count": 16,
      "outputs": [
        {
          "output_type": "execute_result",
          "data": {
            "text/plain": [
              "[(0,\n",
              "  '0.046*\"state\" + 0.010*\"area\" + 0.009*\"united\" + 0.008*\"north\" + 0.007*\"city\" + 0.007*\"largest\" + 0.007*\"new\" + 0.006*\"south\" + 0.006*\"u\" + 0.006*\"populous\"'),\n",
              " (1,\n",
              "  '0.033*\"state\" + 0.010*\"new\" + 0.007*\"united\" + 0.007*\"area\" + 0.007*\"mexico\" + 0.006*\"u\" + 0.006*\"american\" + 0.006*\"florida\" + 0.006*\"texas\" + 0.005*\"missouri\"')]"
            ]
          },
          "metadata": {
            "tags": []
          },
          "execution_count": 16
        }
      ]
    },
    {
      "cell_type": "code",
      "metadata": {
        "id": "0-WRzA6SdlUq",
        "colab_type": "code",
        "colab": {
          "base_uri": "https://localhost:8080/",
          "height": 110
        },
        "outputId": "e32749f8-5140-4b99-fdef-1af12f5dddae"
      },
      "source": [
        "model_lsa = run_lda(doc_clean_usa+doc_clean_japan,2,500)\n",
        "model_lsa.print_topics(-1)"
      ],
      "execution_count": 17,
      "outputs": [
        {
          "output_type": "execute_result",
          "data": {
            "text/plain": [
              "[(0,\n",
              "  '0.035*\"state\" + 0.011*\"area\" + 0.010*\"prefecture\" + 0.010*\"city\" + 0.007*\"largest\" + 0.007*\"north\" + 0.007*\"new\" + 0.007*\"united\" + 0.006*\"region\" + 0.006*\"south\"'),\n",
              " (1,\n",
              "  '0.027*\"state\" + 0.009*\"city\" + 0.007*\"united\" + 0.006*\"area\" + 0.006*\"american\" + 0.006*\"largest\" + 0.005*\"world\" + 0.005*\"population\" + 0.005*\"new\" + 0.004*\"region\"')]"
            ]
          },
          "metadata": {
            "tags": []
          },
          "execution_count": 17
        }
      ]
    },
    {
      "cell_type": "code",
      "metadata": {
        "id": "IgN-5rX5T1oG",
        "colab_type": "code",
        "colab": {
          "base_uri": "https://localhost:8080/",
          "height": 110
        },
        "outputId": "6b1025e6-9f1f-430a-b080-6d9b841573ff"
      },
      "source": [
        "model_lsa = run_lda(doc_clean_usa+doc_clean_japan,2,3000)\n",
        "model_lsa.print_topics(-1)"
      ],
      "execution_count": 18,
      "outputs": [
        {
          "output_type": "execute_result",
          "data": {
            "text/plain": [
              "[(0,\n",
              "  '0.043*\"state\" + 0.009*\"area\" + 0.009*\"united\" + 0.008*\"new\" + 0.007*\"largest\" + 0.006*\"north\" + 0.006*\"city\" + 0.006*\"u\" + 0.006*\"american\" + 0.006*\"south\"'),\n",
              " (1,\n",
              "  '0.026*\"prefecture\" + 0.019*\"city\" + 0.017*\"japan\" + 0.008*\"area\" + 0.008*\"capital\" + 0.007*\"population\" + 0.007*\"island\" + 0.006*\"largest\" + 0.005*\"located\" + 0.005*\"florida\"')]"
            ]
          },
          "metadata": {
            "tags": []
          },
          "execution_count": 18
        }
      ]
    },
    {
      "cell_type": "code",
      "metadata": {
        "id": "q_f64GrzT20_",
        "colab_type": "code",
        "colab": {
          "base_uri": "https://localhost:8080/",
          "height": 110
        },
        "outputId": "edb57187-c44c-4e5d-f688-8ac10af91179"
      },
      "source": [
        "#as the number of pass increases keywords get less importance and more refined\n",
        "model_lsa = run_lda(doc_clean_usa+doc_clean_japan,2,5000)\n",
        "model_lsa.print_topics(-1)"
      ],
      "execution_count": 19,
      "outputs": [
        {
          "output_type": "execute_result",
          "data": {
            "text/plain": [
              "[(0,\n",
              "  '0.045*\"state\" + 0.009*\"area\" + 0.009*\"united\" + 0.008*\"new\" + 0.007*\"largest\" + 0.007*\"north\" + 0.007*\"u\" + 0.006*\"american\" + 0.006*\"city\" + 0.006*\"south\"'),\n",
              " (1,\n",
              "  '0.024*\"prefecture\" + 0.018*\"city\" + 0.016*\"japan\" + 0.007*\"area\" + 0.007*\"capital\" + 0.007*\"population\" + 0.006*\"island\" + 0.006*\"largest\" + 0.005*\"japanese\" + 0.005*\"located\"')]"
            ]
          },
          "metadata": {
            "tags": []
          },
          "execution_count": 19
        }
      ]
    },
    {
      "cell_type": "code",
      "metadata": {
        "id": "dkvsHCZ0fzqB",
        "colab_type": "code",
        "colab": {}
      },
      "source": [
        "def compute_coherence_values(dictionary, doc_term_matrix, doc_clean, stop, start=2, step=3):\n",
        "\n",
        "    coherence_values = []\n",
        "    model_list = []\n",
        "    for num_topics in range(start, stop, step):\n",
        "        # generate LSA model\n",
        "        model = LsiModel(doc_term_matrix, num_topics=num_topics, id2word = dictionary)  # train model\n",
        "        model_list.append(model)\n",
        "        coherencemodel = CoherenceModel(model=model, texts=doc_clean, dictionary=dictionary, coherence='c_v')\n",
        "        coherence_values.append(coherencemodel.get_coherence())\n",
        "    return model_list, coherence_values\n",
        "\n",
        "def plot_graph(doc_clean,start, stop, step):\n",
        "    dictionary,doc_term_matrix=prepare_corpus(doc_clean)\n",
        "    model_list, coherence_values = compute_coherence_values(dictionary, doc_term_matrix,doc_clean,\n",
        "                                                            stop, start, step)\n",
        "    # Show graph\n",
        "    x = range(start, stop, step)\n",
        "    plt.plot(x, coherence_values)\n",
        "    plt.xlabel(\"Number of Topics\")\n",
        "    plt.ylabel(\"Coherence score\")\n",
        "    plt.legend((\"coherence_values\"), loc='best')\n",
        "    plt.show()"
      ],
      "execution_count": 0,
      "outputs": []
    },
    {
      "cell_type": "code",
      "metadata": {
        "id": "pspd38dMZHh4",
        "colab_type": "code",
        "colab": {
          "base_uri": "https://localhost:8080/",
          "height": 279
        },
        "outputId": "a040108f-e91a-4683-d944-b5a49258a49e"
      },
      "source": [
        "start,stop,step=2,12,1\n",
        "plot_graph(doc_clean_usa+doc_clean_japan,start,stop,step)"
      ],
      "execution_count": 25,
      "outputs": [
        {
          "output_type": "display_data",
          "data": {
            "image/png": "[encoded data removed]",
            "text/plain": [
              "<Figure size 432x288 with 1 Axes>"
            ]
          },
          "metadata": {
            "tags": [],
            "needs_background": "light"
          }
        }
      ]
    },
    {
      "cell_type": "code",
      "metadata": {
        "id": "x86zS7WbaOfe",
        "colab_type": "code",
        "colab": {}
      },
      "source": [
        ""
      ],
      "execution_count": 0,
      "outputs": []
    }
  ]
}