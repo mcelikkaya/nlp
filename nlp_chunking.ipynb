{
  "nbformat": 4,
  "nbformat_minor": 0,
  "metadata": {
    "colab": {
      "name": "nlp_chunking.ipynb",
      "provenance": [],
      "collapsed_sections": []
    },
    "kernelspec": {
      "name": "python3",
      "display_name": "Python 3"
    }
  },
  "cells": [
    {
      "cell_type": "code",
      "metadata": {
        "id": "3uQ0N_SzL9Nu",
        "colab_type": "code",
        "colab": {
          "base_uri": "https://localhost:8080/",
          "height": 56
        },
        "outputId": "10e5f5a2-63c9-4573-b9b6-cec173eb1e89"
      },
      "source": [
        "\"\"\"\n",
        "Some utility method checks for reference,tagging,chunking...\n",
        "\n",
        "\n",
        "\n",
        "CC: Coordinating conjunction\n",
        "\n",
        "CD: Cardinal number\n",
        "\n",
        "DT: Determiner\n",
        "\n",
        "EX: Existential there\n",
        "\n",
        "FW: Foreign word\n",
        "\n",
        "IN: Preposition or subordinating conjunction\n",
        "\n",
        "JJ: Adjective\n",
        "\n",
        "VP: Verb Phrase\n",
        "\n",
        "JJR: Adjective, comparative\n",
        "\n",
        "JJS: Adjective, superlative\n",
        "\n",
        "LS: List item marker\n",
        "\n",
        "MD: Modal\n",
        "\n",
        "NN: Noun, singular or mass\n",
        "\n",
        "NNS: Noun, plural\n",
        "\n",
        "PP: Preposition Phrase\n",
        "\n",
        "NNP: Proper noun, singular Phrase\n",
        "\n",
        "NNPS: Proper noun, plural\n",
        "\n",
        "PDT: Pre determiner\n",
        "\n",
        "POS: Possessive ending\n",
        "\n",
        "PRP: Personal pronoun Phrase\n",
        "\n",
        "PRP: Possessive pronoun Phrase\n",
        "\n",
        "RB: Adverb\n",
        "\n",
        "RBR: Adverb, comparative\n",
        "\n",
        "RBS: Adverb, superlative\n",
        "\n",
        "RP: Particle\n",
        "\n",
        "S: Simple declarative clause\n",
        "\n",
        "SBAR: Clause introduced by a (possibly empty) subordinating conjunction\n",
        "\n",
        "SBARQ: Direct question introduced by a wh-word or a wh-phrase.\n",
        "\n",
        "SINV: Inverted declarative sentence, i.e. one in which the subject follows the tensed verb or modal.\n",
        "\n",
        "SQ: Inverted yes/no question, or main clause of a wh-question, following the wh-phrase in SBARQ.\n",
        "\n",
        "SYM: Symbol\n",
        "\n",
        "VBD: Verb, past tense\n",
        "\n",
        "VBG: Verb, gerund or present participle\n",
        "\n",
        "VBN: Verb, past participle\n",
        "\n",
        "VBP: Verb, non-3rd person singular present\n",
        "\n",
        "VBZ: Verb, 3rd person singular present\n",
        "\n",
        "WDT: Wh-determiner\n",
        "\n",
        "WP: Wh-pronoun\n",
        "\n",
        "WP: Possessive wh-pronoun\n",
        "\n",
        "WRB: Wh-adverb\n",
        "\"\"\""
      ],
      "execution_count": 13,
      "outputs": [
        {
          "output_type": "execute_result",
          "data": {
            "text/plain": [
              "'\\nCC: Coordinating conjunction\\n\\nCD: Cardinal number\\n\\nDT: Determiner\\n\\nEX: Existential there\\n\\nFW: Foreign word\\n\\nIN: Preposition or subordinating conjunction\\n\\nJJ: Adjective\\n\\nVP: Verb Phrase\\n\\nJJR: Adjective, comparative\\n\\nJJS: Adjective, superlative\\n\\nLS: List item marker\\n\\nMD: Modal\\n\\nNN: Noun, singular or mass\\n\\nNNS: Noun, plural\\n\\nPP: Preposition Phrase\\n\\nNNP: Proper noun, singular Phrase\\n\\nNNPS: Proper noun, plural\\n\\nPDT: Pre determiner\\n\\nPOS: Possessive ending\\n\\nPRP: Personal pronoun Phrase\\n\\nPRP: Possessive pronoun Phrase\\n\\nRB: Adverb\\n\\nRBR: Adverb, comparative\\n\\nRBS: Adverb, superlative\\n\\nRP: Particle\\n\\nS: Simple declarative clause\\n\\nSBAR: Clause introduced by a (possibly empty) subordinating conjunction\\n\\nSBARQ: Direct question introduced by a wh-word or a wh-phrase.\\n\\nSINV: Inverted declarative sentence, i.e. one in which the subject follows the tensed verb or modal.\\n\\nSQ: Inverted yes/no question, or main clause of a wh-question, following the wh-phrase in SBARQ.\\n\\nSYM: Symbol\\n\\nVBD: Verb, past tense\\n\\nVBG: Verb, gerund or present participle\\n\\nVBN: Verb, past participle\\n\\nVBP: Verb, non-3rd person singular present\\n\\nVBZ: Verb, 3rd person singular present\\n\\nWDT: Wh-determiner\\n\\nWP: Wh-pronoun\\n\\nWP: Possessive wh-pronoun\\n\\nWRB: Wh-adverb\\n'"
            ]
          },
          "metadata": {
            "tags": []
          },
          "execution_count": 13
        }
      ]
    },
    {
      "cell_type": "code",
      "metadata": {
        "id": "UbQQ2ddQF1H1",
        "colab_type": "code",
        "colab": {
          "base_uri": "https://localhost:8080/",
          "height": 148
        },
        "outputId": "7b5843d6-1121-4881-b003-fff1e70c4c0d"
      },
      "source": [
        "import matplotlib\n",
        "matplotlib.use('Agg')\n",
        "%matplotlib inline\n",
        "\n",
        "from nltk.corpus import brown\n",
        "import nltk\n",
        "#nltk.download('brown')\n",
        "nltk.download('averaged_perceptron_tagger')\n",
        "nltk.download('punkt')"
      ],
      "execution_count": 8,
      "outputs": [
        {
          "output_type": "stream",
          "text": [
            "[nltk_data] Downloading package averaged_perceptron_tagger to\n",
            "[nltk_data]     /root/nltk_data...\n",
            "[nltk_data]   Package averaged_perceptron_tagger is already up-to-\n",
            "[nltk_data]       date!\n",
            "[nltk_data] Downloading package punkt to /root/nltk_data...\n",
            "[nltk_data]   Unzipping tokenizers/punkt.zip.\n"
          ],
          "name": "stdout"
        },
        {
          "output_type": "execute_result",
          "data": {
            "text/plain": [
              "True"
            ]
          },
          "metadata": {
            "tags": []
          },
          "execution_count": 8
        }
      ]
    },
    {
      "cell_type": "code",
      "metadata": {
        "id": "8OI4KbpwK9CA",
        "colab_type": "code",
        "colab": {
          "base_uri": "https://localhost:8080/",
          "height": 110
        },
        "outputId": "f8763989-300c-4184-cedf-34bf65c1a709"
      },
      "source": [
        "sent = ['Daniel', 'personally', 'led', 'the', 'fight']\n",
        "tagged = nltk.pos_tag(sent)\n",
        "tagged"
      ],
      "execution_count": 5,
      "outputs": [
        {
          "output_type": "execute_result",
          "data": {
            "text/plain": [
              "[('Daniel', 'NNP'),\n",
              " ('personally', 'RB'),\n",
              " ('led', 'VBD'),\n",
              " ('the', 'DT'),\n",
              " ('fight', 'NN')]"
            ]
          },
          "metadata": {
            "tags": []
          },
          "execution_count": 5
        }
      ]
    },
    {
      "cell_type": "code",
      "metadata": {
        "id": "d35B-ElRLkYK",
        "colab_type": "code",
        "colab": {
          "base_uri": "https://localhost:8080/",
          "height": 36
        },
        "outputId": "d0e6c497-7253-451f-997a-3cf709d35aa7"
      },
      "source": [
        "import nltk\n",
        "#DT: Determiner\n",
        "# Common kinds of determiners include definite and indefinite articles (like the English the and a or an), \n",
        "# demonstratives (this and that), possessive determiners (my and their), cardinal numerals, quantifiers (many, all and no), \n",
        "# distributive determiners (each, any), and interrogative determiners (which). \n",
        "\n",
        "#JJ: Adjective\n",
        "#NN: Noun, singular or mass\n",
        "grammar = r\"\"\"\n",
        "  TASK1: {<DT|JJ|NN.*>+}\n",
        "\"\"\"\n",
        "\n",
        "sentence = 'The car and building'\n",
        "chunkParser = nltk.RegexpParser(grammar)\n",
        "words = nltk.word_tokenize(sentence)\n",
        "tagged = nltk.pos_tag(words)\n",
        "print(chunkParser.parse(tagged))\n"
      ],
      "execution_count": 20,
      "outputs": [
        {
          "output_type": "stream",
          "text": [
            "(S (TASK1 The/DT car/NN) and/CC (TASK1 building/NN))\n"
          ],
          "name": "stdout"
        }
      ]
    },
    {
      "cell_type": "code",
      "metadata": {
        "id": "fAvyNFVnMify",
        "colab_type": "code",
        "colab": {
          "base_uri": "https://localhost:8080/",
          "height": 36
        },
        "outputId": "89cdba94-52e6-4d62-9362-6c41908ed91a"
      },
      "source": [
        "#CC: Coordinating conjunction\n",
        "#A coordinating conjunction is a word that joins two elements of equal grammatical rank and syntactic importance.\n",
        "# They can join two verbs, two nouns, two adjectives, two phrases, or two independent clauses.\n",
        "# The seven coordinating conjunctions are \n",
        "# for, and, nor, but, or, yet, and so.\n",
        "grammar = r\"\"\"\n",
        "  NP: {<DT|JJ|NN.*>+}\n",
        "  CNP: {<NP><CC><NP>}\n",
        "\"\"\"\n",
        "\n",
        "sentence = 'The car and building'\n",
        "chunkParser = nltk.RegexpParser(grammar)\n",
        "words = nltk.word_tokenize(sentence)\n",
        "tagged = nltk.pos_tag(words)\n",
        "print(chunkParser.parse(tagged))\n"
      ],
      "execution_count": 18,
      "outputs": [
        {
          "output_type": "stream",
          "text": [
            "(S (CNP (NP The/DT car/NN) and/CC (NP building/NN)))\n"
          ],
          "name": "stdout"
        }
      ]
    },
    {
      "cell_type": "code",
      "metadata": {
        "id": "1yrrq8Y_Q0H3",
        "colab_type": "code",
        "colab": {
          "base_uri": "https://localhost:8080/",
          "height": 185
        },
        "outputId": "2b9c25ce-75c3-4a1e-b008-95d14cdf3d95"
      },
      "source": [
        "import nltk\n",
        "\n",
        "PATTERN = r\"\"\"\n",
        "NP: {<NN><NN>+}\n",
        "    {<ADJ><NN>+}\n",
        "\"\"\"\n",
        "\n",
        "sentence = [('the', 'DT'), ('little', 'ADJ'), ('yellow', 'ADJ'),\n",
        "            ('shepherd', 'NN'), ('dog', 'NN'), ('barked', 'VBD'), ('at', 'IN'),\n",
        "            ('the', 'DT'), ('silly', 'ADJ'), ('cat', 'NN')]\n",
        "\n",
        "cp = nltk.RegexpParser(PATTERN)\n",
        "print(cp.parse(sentence))"
      ],
      "execution_count": 17,
      "outputs": [
        {
          "output_type": "stream",
          "text": [
            "(S\n",
            "  the/DT\n",
            "  little/ADJ\n",
            "  yellow/ADJ\n",
            "  (NP shepherd/NN dog/NN)\n",
            "  barked/VBD\n",
            "  at/IN\n",
            "  the/DT\n",
            "  (NP silly/ADJ cat/NN))\n"
          ],
          "name": "stdout"
        }
      ]
    },
    {
      "cell_type": "code",
      "metadata": {
        "id": "JUTH7IOQTFVJ",
        "colab_type": "code",
        "colab": {}
      },
      "source": [
        ""
      ],
      "execution_count": 0,
      "outputs": []
    }
  ]
}