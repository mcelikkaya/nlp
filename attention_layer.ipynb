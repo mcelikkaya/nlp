{
  "nbformat": 4,
  "nbformat_minor": 0,
  "metadata": {
    "colab": {
      "name": "attention_layer.ipynb",
      "provenance": [],
      "collapsed_sections": []
    },
    "kernelspec": {
      "name": "python3",
      "display_name": "Python 3"
    },
    "accelerator": "TPU"
  },
  "cells": [
    {
      "cell_type": "code",
      "metadata": {
        "id": "cFQ9ORhqwE5w",
        "colab_type": "code",
        "outputId": "cce2ed28-b8c8-4501-b190-7342910a4528",
        "colab": {
          "base_uri": "https://localhost:8080/",
          "height": 35
        }
      },
      "source": [
        "\"\"\"\n",
        "In this notebook , I wanted to try attention layer for a simple nlp problem.\n",
        "Load IMDB dataset, \n",
        "train a LSTM network\n",
        "train a LSTM with attention\n",
        "\n",
        "For this simple problem,there seems to be no difference.\n",
        "I think it will make difference if this was a text generation.\n",
        "\"\"\"\n",
        "from keras.datasets import imdb\n",
        "from keras.preprocessing import sequence\n",
        "from keras_self_attention import SeqSelfAttention, SeqWeightedAttention\n",
        "\n",
        "max_features = 10000\n",
        "maxlen = 500\n",
        "batch_size = 32\n",
        "\n",
        "# data\n",
        "(x_train, y_train), (x_test, y_test) = imdb.load_data(num_words=max_features)\n",
        "\n",
        "x_train = sequence.pad_sequences(x_train, maxlen= maxlen)\n",
        "x_test = sequence.pad_sequences(x_test, maxlen=maxlen)\n",
        "\n",
        "# model \n",
        "from keras import models\n",
        "from keras import layers\n",
        "from keras.layers import Dense, Embedding, LSTM, Bidirectional, Flatten\n"
      ],
      "execution_count": 1,
      "outputs": [
        {
          "output_type": "stream",
          "text": [
            "Using TensorFlow backend.\n"
          ],
          "name": "stderr"
        }
      ]
    },
    {
      "cell_type": "code",
      "metadata": {
        "id": "lZZosdFqXSlq",
        "colab_type": "code",
        "colab": {}
      },
      "source": [
        "#!pip install keras_self_attention"
      ],
      "execution_count": 0,
      "outputs": []
    },
    {
      "cell_type": "code",
      "metadata": {
        "id": "HaPl_Rjp_weA",
        "colab_type": "code",
        "colab": {
          "base_uri": "https://localhost:8080/",
          "height": 733
        },
        "outputId": "7f3441ab-b644-49ef-93d7-5a1f3fd105ce"
      },
      "source": [
        "model = models.Sequential()\n",
        "model.add( Embedding(max_features, 32))\n",
        "model.add(Bidirectional( LSTM(32, return_sequences=False)))\n",
        "model.add(Dense(16, activation='sigmoid'))\n",
        "\n",
        "model.add( Dense(1, activation='sigmoid') )\n",
        "\n",
        "model.compile(optimizer='rmsprop', loss='binary_crossentropy', metrics=['acc'])\n",
        "model.summary()\n",
        "\n",
        "history = model.fit(x_train, y_train, epochs=10, batch_size=128, validation_split=0.2)"
      ],
      "execution_count": 10,
      "outputs": [
        {
          "output_type": "stream",
          "text": [
            "Model: \"sequential_6\"\n",
            "_________________________________________________________________\n",
            "Layer (type)                 Output Shape              Param #   \n",
            "=================================================================\n",
            "embedding_6 (Embedding)      (None, None, 32)          320000    \n",
            "_________________________________________________________________\n",
            "bidirectional_6 (Bidirection (None, 64)                16640     \n",
            "_________________________________________________________________\n",
            "dense_10 (Dense)             (None, 16)                1040      \n",
            "_________________________________________________________________\n",
            "dense_11 (Dense)             (None, 1)                 17        \n",
            "=================================================================\n",
            "Total params: 337,697\n",
            "Trainable params: 337,697\n",
            "Non-trainable params: 0\n",
            "_________________________________________________________________\n"
          ],
          "name": "stdout"
        },
        {
          "output_type": "stream",
          "text": [
            "/usr/local/lib/python3.6/dist-packages/tensorflow/python/framework/indexed_slices.py:434: UserWarning: Converting sparse IndexedSlices to a dense Tensor of unknown shape. This may consume a large amount of memory.\n",
            "  \"Converting sparse IndexedSlices to a dense Tensor of unknown shape. \"\n"
          ],
          "name": "stderr"
        },
        {
          "output_type": "stream",
          "text": [
            "Train on 20000 samples, validate on 5000 samples\n",
            "Epoch 1/10\n",
            "20000/20000 [==============================] - 129s 6ms/step - loss: 0.5860 - acc: 0.6981 - val_loss: 0.4616 - val_acc: 0.8086\n",
            "Epoch 2/10\n",
            "20000/20000 [==============================] - 131s 7ms/step - loss: 0.3404 - acc: 0.8704 - val_loss: 0.4210 - val_acc: 0.8128\n",
            "Epoch 3/10\n",
            "20000/20000 [==============================] - 129s 6ms/step - loss: 0.2619 - acc: 0.9021 - val_loss: 0.3237 - val_acc: 0.8852\n",
            "Epoch 4/10\n",
            "20000/20000 [==============================] - 126s 6ms/step - loss: 0.2172 - acc: 0.9227 - val_loss: 0.3382 - val_acc: 0.8768\n",
            "Epoch 5/10\n",
            "20000/20000 [==============================] - 129s 6ms/step - loss: 0.1892 - acc: 0.9363 - val_loss: 0.3518 - val_acc: 0.8728\n",
            "Epoch 6/10\n",
            "20000/20000 [==============================] - 131s 7ms/step - loss: 0.1671 - acc: 0.9437 - val_loss: 0.3327 - val_acc: 0.8650\n",
            "Epoch 7/10\n",
            "20000/20000 [==============================] - 127s 6ms/step - loss: 0.1483 - acc: 0.9514 - val_loss: 0.3661 - val_acc: 0.8552\n",
            "Epoch 8/10\n",
            "20000/20000 [==============================] - 126s 6ms/step - loss: 0.1333 - acc: 0.9560 - val_loss: 0.4067 - val_acc: 0.8562\n",
            "Epoch 9/10\n",
            "20000/20000 [==============================] - 130s 7ms/step - loss: 0.1252 - acc: 0.9582 - val_loss: 0.3475 - val_acc: 0.8820\n",
            "Epoch 10/10\n",
            "20000/20000 [==============================] - 128s 6ms/step - loss: 0.1127 - acc: 0.9643 - val_loss: 0.5384 - val_acc: 0.8532\n"
          ],
          "name": "stdout"
        }
      ]
    },
    {
      "cell_type": "code",
      "metadata": {
        "id": "Ud8KiEDfwGh0",
        "colab_type": "code",
        "outputId": "bd9d500d-4f24-4047-9cdf-b0d65607fd62",
        "colab": {
          "base_uri": "https://localhost:8080/",
          "height": 733
        }
      },
      "source": [
        "model2 = models.Sequential()\n",
        "model2.add( Embedding(max_features, 32))\n",
        "model2.add(Bidirectional( LSTM(32, return_sequences=True)))\n",
        "# add an attention layer\n",
        "model2.add(SeqWeightedAttention())\n",
        "\n",
        "model2.add( Dense(1, activation='sigmoid') )\n",
        "\n",
        "# compile and fit\n",
        "model2.compile(optimizer='rmsprop', loss='binary_crossentropy', metrics=['acc'])\n",
        "model2.summary()\n",
        "\n",
        "history = model2.fit(x_train, y_train, epochs=10, batch_size=128, validation_split=0.2)"
      ],
      "execution_count": 12,
      "outputs": [
        {
          "output_type": "stream",
          "text": [
            "Model: \"sequential_8\"\n",
            "_________________________________________________________________\n",
            "Layer (type)                 Output Shape              Param #   \n",
            "=================================================================\n",
            "embedding_8 (Embedding)      (None, None, 32)          320000    \n",
            "_________________________________________________________________\n",
            "bidirectional_8 (Bidirection (None, None, 64)          16640     \n",
            "_________________________________________________________________\n",
            "seq_weighted_attention_2 (Se (None, 64)                65        \n",
            "_________________________________________________________________\n",
            "dense_13 (Dense)             (None, 1)                 65        \n",
            "=================================================================\n",
            "Total params: 336,770\n",
            "Trainable params: 336,770\n",
            "Non-trainable params: 0\n",
            "_________________________________________________________________\n"
          ],
          "name": "stdout"
        },
        {
          "output_type": "stream",
          "text": [
            "/usr/local/lib/python3.6/dist-packages/tensorflow/python/framework/indexed_slices.py:434: UserWarning: Converting sparse IndexedSlices to a dense Tensor of unknown shape. This may consume a large amount of memory.\n",
            "  \"Converting sparse IndexedSlices to a dense Tensor of unknown shape. \"\n"
          ],
          "name": "stderr"
        },
        {
          "output_type": "stream",
          "text": [
            "Train on 20000 samples, validate on 5000 samples\n",
            "Epoch 1/10\n",
            "20000/20000 [==============================] - 147s 7ms/step - loss: 0.5740 - acc: 0.6931 - val_loss: 0.4465 - val_acc: 0.8236\n",
            "Epoch 2/10\n",
            "20000/20000 [==============================] - 140s 7ms/step - loss: 0.3616 - acc: 0.8524 - val_loss: 0.3310 - val_acc: 0.8630\n",
            "Epoch 3/10\n",
            "20000/20000 [==============================] - 136s 7ms/step - loss: 0.2701 - acc: 0.8945 - val_loss: 0.4419 - val_acc: 0.7976\n",
            "Epoch 4/10\n",
            "20000/20000 [==============================] - 141s 7ms/step - loss: 0.2227 - acc: 0.9158 - val_loss: 0.5018 - val_acc: 0.8206\n",
            "Epoch 5/10\n",
            "20000/20000 [==============================] - 138s 7ms/step - loss: 0.1867 - acc: 0.9288 - val_loss: 0.2922 - val_acc: 0.8886\n",
            "Epoch 6/10\n",
            "20000/20000 [==============================] - 135s 7ms/step - loss: 0.1625 - acc: 0.9410 - val_loss: 0.3336 - val_acc: 0.8718\n",
            "Epoch 7/10\n",
            "20000/20000 [==============================] - 137s 7ms/step - loss: 0.1449 - acc: 0.9481 - val_loss: 0.2971 - val_acc: 0.8850\n",
            "Epoch 8/10\n",
            "20000/20000 [==============================] - 141s 7ms/step - loss: 0.1298 - acc: 0.9527 - val_loss: 0.3613 - val_acc: 0.8628\n",
            "Epoch 9/10\n",
            "20000/20000 [==============================] - 134s 7ms/step - loss: 0.1149 - acc: 0.9588 - val_loss: 0.3713 - val_acc: 0.8738\n",
            "Epoch 10/10\n",
            "20000/20000 [==============================] - 139s 7ms/step - loss: 0.1009 - acc: 0.9643 - val_loss: 0.3475 - val_acc: 0.8834\n"
          ],
          "name": "stdout"
        }
      ]
    },
    {
      "cell_type": "code",
      "metadata": {
        "id": "_v187IeowZCJ",
        "colab_type": "code",
        "colab": {}
      },
      "source": [
        ""
      ],
      "execution_count": 0,
      "outputs": []
    },
    {
      "cell_type": "code",
      "metadata": {
        "id": "ghsXqDBqwgoB",
        "colab_type": "code",
        "colab": {}
      },
      "source": [
        ""
      ],
      "execution_count": 0,
      "outputs": []
    },
    {
      "cell_type": "code",
      "metadata": {
        "id": "Vm50T7oUwjI8",
        "colab_type": "code",
        "outputId": "760b7ef0-86f6-4e67-f024-c4b91b815a19",
        "colab": {
          "base_uri": "https://localhost:8080/",
          "height": 35
        }
      },
      "source": [
        "predict = model.predict( x_train[0].reshape(1,500) )\n",
        "predict"
      ],
      "execution_count": 9,
      "outputs": [
        {
          "output_type": "execute_result",
          "data": {
            "text/plain": [
              "array([[0.8235177]], dtype=float32)"
            ]
          },
          "metadata": {
            "tags": []
          },
          "execution_count": 9
        }
      ]
    },
    {
      "cell_type": "code",
      "metadata": {
        "id": "pxw_EiMJwkz2",
        "colab_type": "code",
        "outputId": "aafc07ac-7b8f-4362-d255-4e2db1bcfe3c",
        "colab": {
          "base_uri": "https://localhost:8080/",
          "height": 533
        }
      },
      "source": [
        "\n",
        "from keras.utils import plot_model\n",
        "\n",
        "plot_model(model, to_file='multiple_outputs.png',show_shapes=True)\n"
      ],
      "execution_count": 13,
      "outputs": [
        {
          "output_type": "execute_result",
          "data": {
            "image/png": "[encoded data removed]",
            "text/plain": [
              "<IPython.core.display.Image object>"
            ]
          },
          "metadata": {
            "tags": []
          },
          "execution_count": 13
        }
      ]
    },
    {
      "cell_type": "code",
      "metadata": {
        "id": "PQBHIin5xA5F",
        "colab_type": "code",
        "outputId": "801f3d15-45f2-47ef-b10a-c8bbf68dfa7e",
        "colab": {
          "base_uri": "https://localhost:8080/",
          "height": 533
        }
      },
      "source": [
        "from keras.utils import plot_model\n",
        "\n",
        "plot_model(model2, to_file='multiple_outputs.png',show_shapes=True)"
      ],
      "execution_count": 14,
      "outputs": [
        {
          "output_type": "execute_result",
          "data": {
            "image/png": "[encoded data removed]",
            "text/plain": [
              "<IPython.core.display.Image object>"
            ]
          },
          "metadata": {
            "tags": []
          },
          "execution_count": 14
        }
      ]
    },
    {
      "cell_type": "code",
      "metadata": {
        "id": "7s1loDbqyGvR",
        "colab_type": "code",
        "colab": {}
      },
      "source": [
        "\n"
      ],
      "execution_count": 0,
      "outputs": []
    },
    {
      "cell_type": "code",
      "metadata": {
        "id": "VWWC5Li98Xyf",
        "colab_type": "code",
        "colab": {}
      },
      "source": [
        ""
      ],
      "execution_count": 0,
      "outputs": []
    },
    {
      "cell_type": "code",
      "metadata": {
        "id": "_KcQzFtV9beV",
        "colab_type": "code",
        "colab": {}
      },
      "source": [
        ""
      ],
      "execution_count": 0,
      "outputs": []
    },
    {
      "cell_type": "code",
      "metadata": {
        "id": "PRSShzFa9wf0",
        "colab_type": "code",
        "colab": {}
      },
      "source": [
        ""
      ],
      "execution_count": 0,
      "outputs": []
    },
    {
      "cell_type": "code",
      "metadata": {
        "id": "HdQBmfSe99n0",
        "colab_type": "code",
        "colab": {}
      },
      "source": [
        ""
      ],
      "execution_count": 0,
      "outputs": []
    },
    {
      "cell_type": "code",
      "metadata": {
        "id": "od6esmE8-Kfc",
        "colab_type": "code",
        "colab": {}
      },
      "source": [
        ""
      ],
      "execution_count": 0,
      "outputs": []
    },
    {
      "cell_type": "code",
      "metadata": {
        "id": "i8qahTmZ-dQn",
        "colab_type": "code",
        "colab": {}
      },
      "source": [
        ""
      ],
      "execution_count": 0,
      "outputs": []
    },
    {
      "cell_type": "code",
      "metadata": {
        "id": "Mh7H9CZZARFf",
        "colab_type": "code",
        "colab": {}
      },
      "source": [
        ""
      ],
      "execution_count": 0,
      "outputs": []
    },
    {
      "cell_type": "code",
      "metadata": {
        "id": "aswgsKvGA0a7",
        "colab_type": "code",
        "colab": {}
      },
      "source": [
        ""
      ],
      "execution_count": 0,
      "outputs": []
    },
    {
      "cell_type": "code",
      "metadata": {
        "id": "0uf_eRhrEq_B",
        "colab_type": "code",
        "colab": {}
      },
      "source": [
        ""
      ],
      "execution_count": 0,
      "outputs": []
    },
    {
      "cell_type": "code",
      "metadata": {
        "id": "7nAq0OcoE2bY",
        "colab_type": "code",
        "colab": {}
      },
      "source": [
        "\n",
        "\n"
      ],
      "execution_count": 0,
      "outputs": []
    },
    {
      "cell_type": "code",
      "metadata": {
        "id": "7psTeqLRI5XH",
        "colab_type": "code",
        "colab": {}
      },
      "source": [
        ""
      ],
      "execution_count": 0,
      "outputs": []
    },
    {
      "cell_type": "code",
      "metadata": {
        "id": "YnpvTa61I8Vv",
        "colab_type": "code",
        "colab": {}
      },
      "source": [
        ""
      ],
      "execution_count": 0,
      "outputs": []
    },
    {
      "cell_type": "code",
      "metadata": {
        "id": "HnHn500LI-cK",
        "colab_type": "code",
        "colab": {}
      },
      "source": [
        ""
      ],
      "execution_count": 0,
      "outputs": []
    },
    {
      "cell_type": "code",
      "metadata": {
        "id": "dlrMiYL-Jb6x",
        "colab_type": "code",
        "colab": {}
      },
      "source": [
        ""
      ],
      "execution_count": 0,
      "outputs": []
    }
  ]
}