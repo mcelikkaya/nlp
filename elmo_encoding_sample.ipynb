{
  "nbformat": 4,
  "nbformat_minor": 0,
  "metadata": {
    "colab": {
      "name": "elmo_encoding_sample.ipynb",
      "provenance": []
    },
    "kernelspec": {
      "name": "python3",
      "display_name": "Python 3"
    },
    "accelerator": "TPU"
  },
  "cells": [
    {
      "cell_type": "code",
      "metadata": {
        "id": "p9vIqKJmVDUC"
      },
      "source": [
        "# In this notebook i wanted to prepare a template for using Elmo at other projects. I tried very very simple samples for future reference.\n",
        "#Elmo embeddings are learned from the internal state of a bidirectional LSTM and represent contextual features of the input text.\n",
        "#Even ELMo, which uses a bidirectional LSTM, simply concatenated the left-to-right and right-to-left information,\n",
        "#meaning that the representation couldn't take advantage of both left and right contexts simultaneously. \n",
        "#BERT replaces language modeling with a modified objective they called “masked language modeling”."
      ],
      "execution_count": 57,
      "outputs": []
    },
    {
      "cell_type": "code",
      "metadata": {
        "id": "iR5-Azxgz2g1"
      },
      "source": [
        "\n",
        "\n",
        "%tensorflow_version 1.5"
      ],
      "execution_count": 2,
      "outputs": []
    },
    {
      "cell_type": "code",
      "metadata": {
        "colab": {
          "base_uri": "https://localhost:8080/"
        },
        "id": "TK2RVCqEVFbj",
        "outputId": "c761ea2d-c73f-49f8-dc7f-6ed37c225c2a"
      },
      "source": [
        "# Import our dependencies\n",
        "import tensorflow as tf\n",
        "import pandas as pd\n",
        "import tensorflow_hub as hub\n",
        "import os\n",
        "import re\n",
        "\n",
        "from keras import backend as K\n",
        "#import tensorflow.keras.backend as K\n",
        "\n",
        "import keras.layers as layers\n",
        "from keras.models import Model, load_model\n",
        "from keras.engine import Layer\n",
        "import numpy as np\n",
        "\n",
        "# Initialize session\n",
        "sess = tf.Session()\n",
        "K.set_session(sess)"
      ],
      "execution_count": 3,
      "outputs": [
        {
          "output_type": "stream",
          "text": [
            "Using TensorFlow backend.\n"
          ],
          "name": "stderr"
        }
      ]
    },
    {
      "cell_type": "code",
      "metadata": {
        "colab": {
          "base_uri": "https://localhost:8080/",
          "height": 206
        },
        "id": "oxmj6YPKVGIM",
        "outputId": "cf9fcdd5-a401-4e5d-e862-dc8c3ea2384d"
      },
      "source": [
        "# Load all files from a directory in a DataFrame.\n",
        "def load_directory_data(directory):\n",
        "  data = {}\n",
        "  data[\"sentence\"] = []\n",
        "  data[\"sentiment\"] = []\n",
        "  for file_path in os.listdir(directory):\n",
        "    with tf.gfile.GFile(os.path.join(directory, file_path), \"r\") as f:\n",
        "      data[\"sentence\"].append(f.read())\n",
        "      data[\"sentiment\"].append(re.match(\"\\d+_(\\d+)\\.txt\", file_path).group(1))\n",
        "  return pd.DataFrame.from_dict(data)\n",
        "\n",
        "# Merge positive and negative examples, add a polarity column and shuffle.\n",
        "def load_dataset(directory):\n",
        "  pos_df = load_directory_data(os.path.join(directory, \"pos\"))\n",
        "  neg_df = load_directory_data(os.path.join(directory, \"neg\"))\n",
        "  pos_df[\"polarity\"] = 1\n",
        "  neg_df[\"polarity\"] = 0\n",
        "  return pd.concat([pos_df, neg_df]).sample(frac=1).reset_index(drop=True)\n",
        "\n",
        "# Download and process the dataset files.\n",
        "def download_and_load_datasets(force_download=False):\n",
        "  dataset = tf.keras.utils.get_file(\n",
        "      fname=\"aclImdb.tar.gz\", \n",
        "      origin=\"http://ai.stanford.edu/~amaas/data/sentiment/aclImdb_v1.tar.gz\", \n",
        "      extract=True)\n",
        "\n",
        "  train_df = load_dataset(os.path.join(os.path.dirname(dataset), \n",
        "                                       \"aclImdb\", \"train\"))\n",
        "  test_df = load_dataset(os.path.join(os.path.dirname(dataset), \n",
        "                                      \"aclImdb\", \"test\"))\n",
        "\n",
        "  return train_df, test_df\n",
        "\n",
        "# Reduce logging output.\n",
        "tf.logging.set_verbosity(tf.logging.ERROR)\n",
        "\n",
        "train_df, test_df = download_and_load_datasets()\n",
        "train_df.head()"
      ],
      "execution_count": 4,
      "outputs": [
        {
          "output_type": "execute_result",
          "data": {
            "text/html": [
              "<div>\n",
              "<style scoped>\n",
              "    .dataframe tbody tr th:only-of-type {\n",
              "        vertical-align: middle;\n",
              "    }\n",
              "\n",
              "    .dataframe tbody tr th {\n",
              "        vertical-align: top;\n",
              "    }\n",
              "\n",
              "    .dataframe thead th {\n",
              "        text-align: right;\n",
              "    }\n",
              "</style>\n",
              "<table border=\"1\" class=\"dataframe\">\n",
              "  <thead>\n",
              "    <tr style=\"text-align: right;\">\n",
              "      <th></th>\n",
              "      <th>sentence</th>\n",
              "      <th>sentiment</th>\n",
              "      <th>polarity</th>\n",
              "    </tr>\n",
              "  </thead>\n",
              "  <tbody>\n",
              "    <tr>\n",
              "      <th>0</th>\n",
              "      <td>I watched an episode. Yes I sat through the en...</td>\n",
              "      <td>1</td>\n",
              "      <td>0</td>\n",
              "    </tr>\n",
              "    <tr>\n",
              "      <th>1</th>\n",
              "      <td>Ludicrous violations of the most basic securit...</td>\n",
              "      <td>1</td>\n",
              "      <td>0</td>\n",
              "    </tr>\n",
              "    <tr>\n",
              "      <th>2</th>\n",
              "      <td>\"Trigger Man\" is definitely the most boring an...</td>\n",
              "      <td>1</td>\n",
              "      <td>0</td>\n",
              "    </tr>\n",
              "    <tr>\n",
              "      <th>3</th>\n",
              "      <td>I'm sorry to all the fans, but this is a usele...</td>\n",
              "      <td>2</td>\n",
              "      <td>0</td>\n",
              "    </tr>\n",
              "    <tr>\n",
              "      <th>4</th>\n",
              "      <td>In my mind, this remains one of the very best ...</td>\n",
              "      <td>10</td>\n",
              "      <td>1</td>\n",
              "    </tr>\n",
              "  </tbody>\n",
              "</table>\n",
              "</div>"
            ],
            "text/plain": [
              "                                            sentence sentiment  polarity\n",
              "0  I watched an episode. Yes I sat through the en...         1         0\n",
              "1  Ludicrous violations of the most basic securit...         1         0\n",
              "2  \"Trigger Man\" is definitely the most boring an...         1         0\n",
              "3  I'm sorry to all the fans, but this is a usele...         2         0\n",
              "4  In my mind, this remains one of the very best ...        10         1"
            ]
          },
          "metadata": {
            "tags": []
          },
          "execution_count": 4
        }
      ]
    },
    {
      "cell_type": "code",
      "metadata": {
        "id": "Or9kNY11Vh0t"
      },
      "source": [
        "# Create a custom layer that allows us to update weights (lambda layers do not have trainable parameters!)\n",
        "\n",
        "class ElmoEmbeddingLayer(Layer):\n",
        "    def __init__(self, **kwargs):\n",
        "        self.dimensions = 1024\n",
        "        self.trainable=True\n",
        "        super(ElmoEmbeddingLayer, self).__init__(**kwargs)\n",
        "\n",
        "    def build(self, input_shape):\n",
        "        self.elmo = hub.Module('https://tfhub.dev/google/elmo/2', trainable=self.trainable,\n",
        "                               name=\"{}_module\".format(self.name))\n",
        "\n",
        "        self.trainable_weights += tf.trainable_variables(scope=\"^{}_module/.*\".format(self.name))\n",
        "        super(ElmoEmbeddingLayer, self).build(input_shape)\n",
        "\n",
        "    def call(self, x, mask=None):\n",
        "        result = self.elmo(K.squeeze(K.cast(x, tf.string), axis=1),\n",
        "                      as_dict=True,\n",
        "                      signature='default',\n",
        "                      )['default']\n",
        "        return result\n",
        "\n",
        "    def compute_mask(self, inputs, mask=None):\n",
        "        return K.not_equal(inputs, '--PAD--')\n",
        "\n",
        "    def compute_output_shape(self, input_shape):\n",
        "        return (input_shape[0], self.dimensions)"
      ],
      "execution_count": 5,
      "outputs": []
    },
    {
      "cell_type": "code",
      "metadata": {
        "id": "vim8sCUUVkIg"
      },
      "source": [
        "# Function to build model real model takes too much time to try\n",
        "def build_model(): \n",
        "  input_text = layers.Input(shape=(1,), dtype=\"string\")\n",
        "  embedding = ElmoEmbeddingLayer()(input_text)\n",
        "  dense = layers.Dense(256, activation='relu')(embedding)\n",
        "  pred = layers.Dense(1, activation='sigmoid')(dense)\n",
        "\n",
        "  model = Model(inputs=[input_text], outputs=pred)\n",
        "\n",
        "  model.compile(loss='binary_crossentropy', optimizer='adam', metrics=['accuracy'])\n",
        "  model.summary()\n",
        "  \n",
        "  return model"
      ],
      "execution_count": 6,
      "outputs": []
    },
    {
      "cell_type": "code",
      "metadata": {
        "id": "bJT4KfTfoER4"
      },
      "source": [
        "# just use model for embedding generation\n",
        "def build_model_elmo(): \n",
        "  input_text = layers.Input(shape=(1,), dtype=\"string\")\n",
        "  embedding = ElmoEmbeddingLayer()(input_text)\n",
        "  \n",
        "\n",
        "  model = Model(inputs=[input_text], outputs=embedding)\n",
        "\n",
        "  model.compile(loss='binary_crossentropy', optimizer='adam', metrics=['accuracy'])\n",
        "  model.summary()\n",
        "  \n",
        "  return model"
      ],
      "execution_count": 58,
      "outputs": []
    },
    {
      "cell_type": "code",
      "metadata": {
        "id": "LmzFKbqkVl1j"
      },
      "source": [
        "\n",
        "\n",
        "# Create datasets (Only take up to 150 words for memory)\n",
        "train_text = train_df['sentence'].tolist()\n",
        "train_text = [' '.join(t.split()[0:150]) for t in train_text]\n",
        "train_text = np.array(train_text, dtype=object)[:, np.newaxis]\n",
        "train_label = train_df['polarity'].tolist()\n",
        "\n",
        "test_text = test_df['sentence'].tolist()\n",
        "test_text = [' '.join(t.split()[0:150]) for t in test_text]\n",
        "test_text = np.array(test_text, dtype=object)[:, np.newaxis]\n",
        "test_label = test_df['polarity'].tolist()\n",
        "\n"
      ],
      "execution_count": 8,
      "outputs": []
    },
    {
      "cell_type": "code",
      "metadata": {
        "colab": {
          "base_uri": "https://localhost:8080/"
        },
        "id": "GcsjgketVnpo",
        "outputId": "650c39ed-f427-475c-ad7c-4304713c8d95"
      },
      "source": [
        "# Build and fit\n",
        "model = build_model()\n"
      ],
      "execution_count": 9,
      "outputs": [
        {
          "output_type": "stream",
          "text": [
            "Model: \"model_1\"\n",
            "_________________________________________________________________\n",
            "Layer (type)                 Output Shape              Param #   \n",
            "=================================================================\n",
            "input_1 (InputLayer)         (None, 1)                 0         \n",
            "_________________________________________________________________\n",
            "elmo_embedding_layer_1 (Elmo (None, 1024)              4         \n",
            "_________________________________________________________________\n",
            "dense_1 (Dense)              (None, 256)               262400    \n",
            "_________________________________________________________________\n",
            "dense_2 (Dense)              (None, 1)                 257       \n",
            "=================================================================\n",
            "Total params: 262,661\n",
            "Trainable params: 262,661\n",
            "Non-trainable params: 0\n",
            "_________________________________________________________________\n"
          ],
          "name": "stdout"
        }
      ]
    },
    {
      "cell_type": "code",
      "metadata": {
        "colab": {
          "base_uri": "https://localhost:8080/"
        },
        "id": "wua-N4xWkqpS",
        "outputId": "1a925f9b-6996-4088-ec6a-1d6387e45c63"
      },
      "source": [
        "sample = train_text[0]\n",
        "print(\"sample : \", sample)"
      ],
      "execution_count": 10,
      "outputs": [
        {
          "output_type": "stream",
          "text": [
            "sample :  [\"I watched an episode. Yes I sat through the entire miserable experience, and I have to say, this brand of comedy is one of the worst you will get. Imagine Peter Griffin, of Family Guy fame. Now imagine Peter Griffin as a(admittedly slim and minus the glasses) woman, except that he now lacks the something that made him hilarious. Peter Griffin is an idiot, but he doesn't know he's an idiot. Sarah has none of the genuine character, none of the acting ability to pull her character off. Maybe its the trite, formulaic jokes that pull her comedy even lower than her character can take it by herself. Maybe it's the lack of believable foils. Her insensitive, bigoted persona may appeal to insensitive, bigoted people unlike the mass appeal that Stephen Colbert's insensitive, bigoted character has. Like Bill O'Reilly, Sarah creates an annoying, unfunny character. She lacks something that is\"]\n"
          ],
          "name": "stdout"
        }
      ]
    },
    {
      "cell_type": "code",
      "metadata": {
        "colab": {
          "base_uri": "https://localhost:8080/"
        },
        "id": "MDUtm0VZkq7U",
        "outputId": "17308e6d-c152-4d1d-b28e-d43aeb3eaea9"
      },
      "source": [
        "model_elmo = build_model_elmo()"
      ],
      "execution_count": 11,
      "outputs": [
        {
          "output_type": "stream",
          "text": [
            "Model: \"model_2\"\n",
            "_________________________________________________________________\n",
            "Layer (type)                 Output Shape              Param #   \n",
            "=================================================================\n",
            "input_2 (InputLayer)         (None, 1)                 0         \n",
            "_________________________________________________________________\n",
            "elmo_embedding_layer_2 (Elmo (None, 1024)              4         \n",
            "=================================================================\n",
            "Total params: 4\n",
            "Trainable params: 4\n",
            "Non-trainable params: 0\n",
            "_________________________________________________________________\n"
          ],
          "name": "stdout"
        }
      ]
    },
    {
      "cell_type": "code",
      "metadata": {
        "colab": {
          "base_uri": "https://localhost:8080/"
        },
        "id": "-RnEjX7ckrJi",
        "outputId": "a2b957f9-4f72-48b8-8c5d-c059f48523e1"
      },
      "source": [
        "model_elmo.fit([train_text[0]], \n",
        "           np.zeros(1024).reshape(1,1024),          \n",
        "          epochs=2)"
      ],
      "execution_count": 12,
      "outputs": [
        {
          "output_type": "stream",
          "text": [
            "Epoch 1/2\n",
            "1/1 [==============================] - 5s 5s/step - loss: 0.1182 - accuracy: 0.9727\n",
            "Epoch 2/2\n",
            "1/1 [==============================] - 5s 5s/step - loss: 0.1180 - accuracy: 0.9727\n"
          ],
          "name": "stdout"
        },
        {
          "output_type": "execute_result",
          "data": {
            "text/plain": [
              "<keras.callbacks.callbacks.History at 0x7f8d2550ca90>"
            ]
          },
          "metadata": {
            "tags": []
          },
          "execution_count": 12
        }
      ]
    },
    {
      "cell_type": "code",
      "metadata": {
        "colab": {
          "base_uri": "https://localhost:8080/"
        },
        "id": "J663vnvjtt4z",
        "outputId": "4d7a60ee-d158-44d6-a4af-fb2c52502ed7"
      },
      "source": [
        "elmo_result = model_elmo.predict(np.array([\"test sentence for train\"]))\n",
        "print( np.sum(elmo_result.squeeze() ))"
      ],
      "execution_count": 15,
      "outputs": [
        {
          "output_type": "stream",
          "text": [
            "0.038292408\n"
          ],
          "name": "stdout"
        }
      ]
    },
    {
      "cell_type": "code",
      "metadata": {
        "colab": {
          "base_uri": "https://localhost:8080/"
        },
        "id": "W08KaYP-tuK5",
        "outputId": "1ea618ad-4548-4f31-954f-f333e59b1d6b"
      },
      "source": [
        "elmo_result = model_elmo.predict(np.array([\"sentence for train Test\"]))\n",
        "print( np.sum(elmo_result.squeeze() ))"
      ],
      "execution_count": 16,
      "outputs": [
        {
          "output_type": "stream",
          "text": [
            "-1.494627\n"
          ],
          "name": "stdout"
        }
      ]
    },
    {
      "cell_type": "code",
      "metadata": {
        "colab": {
          "base_uri": "https://localhost:8080/"
        },
        "id": "8UOm8GRsVqUa",
        "outputId": "f3a2af0a-2547-464c-e7dd-c153fabfc5a9"
      },
      "source": [
        "elmo_result = model_elmo.predict(np.array([\"sentence sentence sentence Test\"]))\n",
        "print( np.sum(elmo_result.squeeze() ))"
      ],
      "execution_count": 17,
      "outputs": [
        {
          "output_type": "stream",
          "text": [
            "14.945867\n"
          ],
          "name": "stdout"
        }
      ]
    },
    {
      "cell_type": "code",
      "metadata": {
        "id": "DdqYSMttVrZL",
        "colab": {
          "base_uri": "https://localhost:8080/"
        },
        "outputId": "ad6406f5-7229-42d7-c7ea-e42022a6d084"
      },
      "source": [
        "elmo_result = model_elmo.predict(np.array([\"Test sentence sentence sentence\"]))\n",
        "print( np.sum(elmo_result.squeeze() ))"
      ],
      "execution_count": 18,
      "outputs": [
        {
          "output_type": "stream",
          "text": [
            "6.301589\n"
          ],
          "name": "stdout"
        }
      ]
    },
    {
      "cell_type": "code",
      "metadata": {
        "colab": {
          "base_uri": "https://localhost:8080/"
        },
        "id": "m1NPm_-rVrsF",
        "outputId": "b5c92843-3953-4202-f014-0de4b7bafeed"
      },
      "source": [
        "elmo_result = model_elmo.predict(np.array([\"Test sentence\"]))\n",
        "print( np.sum(elmo_result.squeeze() ))"
      ],
      "execution_count": 19,
      "outputs": [
        {
          "output_type": "stream",
          "text": [
            "-4.333769\n"
          ],
          "name": "stdout"
        }
      ]
    },
    {
      "cell_type": "code",
      "metadata": {
        "colab": {
          "base_uri": "https://localhost:8080/"
        },
        "id": "zfC02TZK0ix9",
        "outputId": "e7630917-481b-4e51-8ed5-8b0b2831e1bb"
      },
      "source": [
        "elmo_result = model_elmo.predict(np.array([\"sentence traintest target\"]))\n",
        "print( np.sum(elmo_result.squeeze() ))"
      ],
      "execution_count": 23,
      "outputs": [
        {
          "output_type": "stream",
          "text": [
            "11.476492\n"
          ],
          "name": "stdout"
        }
      ]
    },
    {
      "cell_type": "code",
      "metadata": {
        "id": "nn4DVaiE0nOp"
      },
      "source": [
        "import itertools\n",
        "\n",
        "def get_combination_set(inputs):\n",
        "  all_set = []\n",
        "  for comb in itertools.permutations(inputs, len(inputs)):\n",
        "    #print(comb)\n",
        "    all_set.append(\" \".join(comb)) \n",
        "  return all_set   \n",
        "\n",
        "\n",
        "#set1 = [ \"sentence\",\"train\",\"test\"]\n",
        "#set1_sentences = get_combination_set(set1)\n",
        "\n",
        "#set1 = [ \"sentence\",\"train\",\"test\",\"validation\"]\n",
        "#set1_sentences = get_combination_set(set1)*/\n",
        "tsets = []\n",
        "tsets.append( [ \"sentence\",\"train\",\"test\"] )\n",
        "tsets.append( [ \"sentence\",\"train\",\"validation\"] )\n",
        "tsets.append( [ \"country\",\"city\",\"history\"] )\n",
        "\n",
        "\n",
        "xs = []\n",
        "ys = []\n",
        "for index,tset in enumerate(tsets) :\n",
        "  set_sentences = get_combination_set(tset)\n",
        "  for s in set_sentences:\n",
        "    #print(s)\n",
        "    xs.append( model_elmo.predict( np.array( [s] ) ) )\n",
        "    ys.append(index)\n",
        "\n"
      ],
      "execution_count": 54,
      "outputs": []
    },
    {
      "cell_type": "code",
      "metadata": {
        "colab": {
          "base_uri": "https://localhost:8080/"
        },
        "id": "rmRY03H58RQs",
        "outputId": "2fa89132-1b68-4c9c-d02a-e0560fb58e08"
      },
      "source": [
        "print( np.array(xs ).shape )\n",
        "xs = [ x.flatten() for x in xs]\n",
        "print( np.array(xs ).shape )"
      ],
      "execution_count": 55,
      "outputs": [
        {
          "output_type": "stream",
          "text": [
            "(18, 1, 1024)\n",
            "(18, 1024)\n"
          ],
          "name": "stdout"
        }
      ]
    },
    {
      "cell_type": "code",
      "metadata": {
        "id": "3BykRRKe1LqW",
        "colab": {
          "base_uri": "https://localhost:8080/",
          "height": 438
        },
        "outputId": "23008d2a-0421-4ba6-c7dc-68f985ad60d0"
      },
      "source": [
        "from yellowbrick.text import TSNEVisualizer\n",
        "\n",
        "tsne = TSNEVisualizer()\n",
        "tsne.fit(xs, ys)\n",
        "tsne.labels= [\"1\",\"2\",\"3\"]\n",
        "tsne.colors = [\"black\",\"yellow\",\"green\"]\n",
        "tsne.set_title(\"Distribution\")"
      ],
      "execution_count": 56,
      "outputs": [
        {
          "output_type": "stream",
          "text": [
            "WARNING:matplotlib.axes._axes:*c* argument looks like a single numeric RGB or RGBA sequence, which should be avoided as value-mapping will have precedence in case its length matches with *x* & *y*.  Please use the *color* keyword-argument or provide a 2-D array with a single row if you intend to specify the same RGB or RGBA value for all points.\n",
            "WARNING:matplotlib.axes._axes:*c* argument looks like a single numeric RGB or RGBA sequence, which should be avoided as value-mapping will have precedence in case its length matches with *x* & *y*.  Please use the *color* keyword-argument or provide a 2-D array with a single row if you intend to specify the same RGB or RGBA value for all points.\n",
            "WARNING:matplotlib.axes._axes:*c* argument looks like a single numeric RGB or RGBA sequence, which should be avoided as value-mapping will have precedence in case its length matches with *x* & *y*.  Please use the *color* keyword-argument or provide a 2-D array with a single row if you intend to specify the same RGB or RGBA value for all points.\n"
          ],
          "name": "stderr"
        },
        {
          "output_type": "display_data",
          "data": {
            "image/png": "[encoded data removed]",
            "text/plain": [
              "<Figure size 576x396 with 1 Axes>"
            ]
          },
          "metadata": {
            "tags": []
          }
        }
      ]
    },
    {
      "cell_type": "code",
      "metadata": {
        "id": "i3gnXLzxAjTL"
      },
      "source": [
        ""
      ],
      "execution_count": null,
      "outputs": []
    }
  ]
}